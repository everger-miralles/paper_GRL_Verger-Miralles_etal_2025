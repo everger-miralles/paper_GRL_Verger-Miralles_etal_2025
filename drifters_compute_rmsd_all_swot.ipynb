{
 "cells": [
  {
   "cell_type": "markdown",
   "id": "01ce9633",
   "metadata": {},
   "source": [
    "# RMSD drifters/SWOT – Verger-Miralles et al. (2025)\n",
    "\n",
    "**SWOT enhances small-scale eddy detection in the Mediterranean Sea**\n",
    "\n",
    "Author: *Elisabet Verger-Miralles*  \n",
    "Institution: IMEDEA (CSIC-UIB)"
   ]
  },
  {
   "cell_type": "markdown",
   "id": "d70d2ee2",
   "metadata": {},
   "source": [
    "Compute RMSD SVPB Drifters vels. module vs SWOT"
   ]
  },
  {
   "cell_type": "code",
   "execution_count": null,
   "id": "d79b0fa1",
   "metadata": {},
   "outputs": [],
   "source": [
    "import matplotlib.pyplot as plt\n",
    "import numpy as np\n",
    "import xarray as xr\n",
    "import pandas as pd\n",
    "import glob\n",
    "from scipy.interpolate import griddata\n",
    "from datetime import datetime\n",
    "from functions import process_and_concat_swot\n",
    "from scipy.stats import bootstrap"
   ]
  },
  {
   "cell_type": "code",
   "execution_count": 2,
   "id": "9fc3def0",
   "metadata": {},
   "outputs": [
    {
     "ename": "KeyboardInterrupt",
     "evalue": "",
     "output_type": "error",
     "traceback": [
      "\u001b[1;31m---------------------------------------------------------------------------\u001b[0m",
      "\u001b[1;31mKeyboardInterrupt\u001b[0m                         Traceback (most recent call last)",
      "Cell \u001b[1;32mIn[2], line 87\u001b[0m\n\u001b[0;32m     84\u001b[0m lon_sw, lat_sw \u001b[38;5;241m=\u001b[39m subset[\u001b[38;5;124m'\u001b[39m\u001b[38;5;124mlongitude\u001b[39m\u001b[38;5;124m'\u001b[39m]\u001b[38;5;241m.\u001b[39mvalues, subset[\u001b[38;5;124m'\u001b[39m\u001b[38;5;124mlatitude\u001b[39m\u001b[38;5;124m'\u001b[39m]\u001b[38;5;241m.\u001b[39mvalues\n\u001b[0;32m     86\u001b[0m u_interp \u001b[38;5;241m=\u001b[39m griddata((lon_sw, lat_sw), ugos_an, (lon_drifter, lat_drifter), method\u001b[38;5;241m=\u001b[39m\u001b[38;5;124m'\u001b[39m\u001b[38;5;124mcubic\u001b[39m\u001b[38;5;124m'\u001b[39m)\n\u001b[1;32m---> 87\u001b[0m v_interp \u001b[38;5;241m=\u001b[39m griddata((lon_sw, lat_sw), vgos_an, (lon_drifter, lat_drifter), method\u001b[38;5;241m=\u001b[39m\u001b[38;5;124m'\u001b[39m\u001b[38;5;124mcubic\u001b[39m\u001b[38;5;124m'\u001b[39m)\n\u001b[0;32m     89\u001b[0m \u001b[38;5;28;01mif\u001b[39;00m min_diff \u001b[38;5;241m==\u001b[39m min1:\n\u001b[0;32m     90\u001b[0m     u_interp1, v_interp1 \u001b[38;5;241m=\u001b[39m u_interp, v_interp\n",
      "File \u001b[1;32mc:\\Users\\ASUS\\anaconda3\\envs\\env_elisabet\\Lib\\site-packages\\scipy\\interpolate\\_ndgriddata.py:327\u001b[0m, in \u001b[0;36mgriddata\u001b[1;34m(points, values, xi, method, fill_value, rescale)\u001b[0m\n\u001b[0;32m    325\u001b[0m     \u001b[38;5;28;01mreturn\u001b[39;00m ip(xi)\n\u001b[0;32m    326\u001b[0m \u001b[38;5;28;01melif\u001b[39;00m method \u001b[38;5;241m==\u001b[39m \u001b[38;5;124m'\u001b[39m\u001b[38;5;124mcubic\u001b[39m\u001b[38;5;124m'\u001b[39m \u001b[38;5;129;01mand\u001b[39;00m ndim \u001b[38;5;241m==\u001b[39m \u001b[38;5;241m2\u001b[39m:\n\u001b[1;32m--> 327\u001b[0m     ip \u001b[38;5;241m=\u001b[39m CloughTocher2DInterpolator(points, values, fill_value\u001b[38;5;241m=\u001b[39mfill_value,\n\u001b[0;32m    328\u001b[0m                                     rescale\u001b[38;5;241m=\u001b[39mrescale)\n\u001b[0;32m    329\u001b[0m     \u001b[38;5;28;01mreturn\u001b[39;00m ip(xi)\n\u001b[0;32m    330\u001b[0m \u001b[38;5;28;01melse\u001b[39;00m:\n",
      "File \u001b[1;32m_interpnd.pyx:934\u001b[0m, in \u001b[0;36mscipy.interpolate._interpnd.CloughTocher2DInterpolator.__init__\u001b[1;34m()\u001b[0m\n",
      "File \u001b[1;32m_interpnd.pyx:93\u001b[0m, in \u001b[0;36mscipy.interpolate._interpnd.NDInterpolatorBase.__init__\u001b[1;34m()\u001b[0m\n",
      "File \u001b[1;32m_interpnd.pyx:953\u001b[0m, in \u001b[0;36mscipy.interpolate._interpnd.CloughTocher2DInterpolator._calculate_triangulation\u001b[1;34m()\u001b[0m\n",
      "File \u001b[1;32m_qhull.pyx:1887\u001b[0m, in \u001b[0;36mscipy.spatial._qhull.Delaunay.__init__\u001b[1;34m()\u001b[0m\n",
      "File \u001b[1;32m_qhull.pyx:1596\u001b[0m, in \u001b[0;36mscipy.spatial._qhull._QhullUser.__init__\u001b[1;34m()\u001b[0m\n",
      "File \u001b[1;32m_qhull.pyx:1905\u001b[0m, in \u001b[0;36mscipy.spatial._qhull.Delaunay._update\u001b[1;34m()\u001b[0m\n",
      "File \u001b[1;32m_qhull.pyx:1626\u001b[0m, in \u001b[0;36mscipy.spatial._qhull._QhullUser._update\u001b[1;34m()\u001b[0m\n",
      "File \u001b[1;32mc:\\Users\\ASUS\\anaconda3\\envs\\env_elisabet\\Lib\\site-packages\\numpy\\_core\\_methods.py:44\u001b[0m, in \u001b[0;36m_amax\u001b[1;34m(a, axis, out, keepdims, initial, where)\u001b[0m\n\u001b[0;32m     42\u001b[0m \u001b[38;5;28;01mdef\u001b[39;00m \u001b[38;5;21m_amax\u001b[39m(a, axis\u001b[38;5;241m=\u001b[39m\u001b[38;5;28;01mNone\u001b[39;00m, out\u001b[38;5;241m=\u001b[39m\u001b[38;5;28;01mNone\u001b[39;00m, keepdims\u001b[38;5;241m=\u001b[39m\u001b[38;5;28;01mFalse\u001b[39;00m,\n\u001b[0;32m     43\u001b[0m           initial\u001b[38;5;241m=\u001b[39m_NoValue, where\u001b[38;5;241m=\u001b[39m\u001b[38;5;28;01mTrue\u001b[39;00m):\n\u001b[1;32m---> 44\u001b[0m     \u001b[38;5;28;01mreturn\u001b[39;00m umr_maximum(a, axis, \u001b[38;5;28;01mNone\u001b[39;00m, out, keepdims, initial, where)\n",
      "\u001b[1;31mKeyboardInterrupt\u001b[0m: "
     ]
    }
   ],
   "source": [
    "# 1. DRIFTERS\n",
    "filedir = '../../grl_codes_to_publish_def_swotv2.0.1/data/drifters_filtered/SVPB/'\n",
    "dd1 = '2023-04-23T00:00:00.000000000'\n",
    "dd2 = '2023-04-29T00:00:00.000000000'\n",
    "drifter_ids = ['035', '039', '040', '041', '042']\n",
    "ds_drifters = []\n",
    "\n",
    "for num in drifter_ids:\n",
    "    url = filedir + f\"drifter-svpb{num}_inertial_osc_filt_subset.nc\"\n",
    "    ds = xr.open_dataset(url).sel(time=slice(dd1, dd2))\n",
    "    ds_drifters.append(ds)\n",
    "\n",
    "# 2. SWOT\n",
    "dir_SWOT = '../../grl_codes_to_publish_def_swotv2.0.1/data/SWOT/'\n",
    "files_sw = np.sort(glob.glob(dir_SWOT + '*v2*.nc'))[0:8]\n",
    "lon_min, lon_max, lat_min, lat_max = 1.1, 1.9, 39.6, 40.1\n",
    "\n",
    "df_swot = None\n",
    "for file in files_sw:\n",
    "    ds_SWOT = xr.open_dataset(file)\n",
    "    df_swot = process_and_concat_swot(ds_SWOT, lon_min, lon_max, lat_min, lat_max, df_swot)\n",
    "\n",
    "df_swot = df_swot.dropna().reset_index(drop=True)\n",
    "df_swot['mean_time'] = df_swot.groupby(df_swot['time'].dt.date)['time'].transform('mean')\n",
    "\n",
    "group_transect_ugos = df_swot.groupby('mean_time')['ugos_filtered'].apply(list).reset_index()\n",
    "group_transect_vgos = df_swot.groupby('mean_time')['vgos_filtered'].apply(list).reset_index()\n",
    "group_transect_lon = df_swot.groupby('mean_time')['longitude'].apply(list).reset_index()\n",
    "group_transect_lat = df_swot.groupby('mean_time')['latitude'].apply(list).reset_index()\n",
    "\n",
    "# Mean per transect\n",
    "mean_transect_ugos = []\n",
    "mean_transect_vgos = []\n",
    "for i in range(len(group_transect_ugos)):\n",
    "    int_u = griddata((np.array(group_transect_lon['longitude'][i]),\n",
    "                      np.array(group_transect_lat['latitude'][i])),\n",
    "                     np.array(group_transect_ugos['ugos_filtered'][i]),\n",
    "                     (np.array(ds_drifters[0].LON), np.array(ds_drifters[0].LAT)), method='cubic')\n",
    "    int_v = griddata((np.array(group_transect_lon['longitude'][i]),\n",
    "                      np.array(group_transect_lat['latitude'][i])),\n",
    "                     np.array(group_transect_vgos['vgos_filtered'][i]),\n",
    "                     (np.array(ds_drifters[0].LON), np.array(ds_drifters[0].LAT)), method='cubic')\n",
    "    mean_transect_ugos.append(np.nanmean(int_u))\n",
    "    mean_transect_vgos.append(np.nanmean(int_v))\n",
    "\n",
    "unique_mean_times = df_swot['mean_time'].unique()\n",
    "df_swot['ugos_mean_transect'] = df_swot['mean_time'].map({t: mean_transect_ugos[i] for i, t in enumerate(unique_mean_times)})\n",
    "df_swot['vgos_mean_transect'] = df_swot['mean_time'].map({t: mean_transect_vgos[i] for i, t in enumerate(unique_mean_times)})\n",
    "\n",
    "# 3. SPATIOTEMPORAL INTERP. FOR ALL THE DRIFTERS\n",
    "u_svp_all, v_svp_all, u_swot_all, v_swot_all = [], [], [], []\n",
    "\n",
    "for ds in ds_drifters:\n",
    "    Lon, Lat = ds.LON.values, ds.LAT.values\n",
    "    u_svp, v_svp = ds.U.values, ds.V.values\n",
    "    t = np.array(ds.time)\n",
    "\n",
    "    u_swot_int, v_swot_int = [], []\n",
    "\n",
    "    for i in range(len(Lon)):\n",
    "        time_drifter = np.datetime64(t[i])\n",
    "        lon_drifter, lat_drifter = Lon[i], Lat[i]\n",
    "\n",
    "        df_swot['time_diff'] = abs(df_swot['mean_time'] - time_drifter)\n",
    "        sorted_diffs = df_swot['time_diff'].drop_duplicates().sort_values()\n",
    "        if len(sorted_diffs) < 2: continue\n",
    "        min1, min2 = sorted_diffs.iloc[0], sorted_diffs.iloc[1]\n",
    "\n",
    "        for min_diff in [min1, min2]:\n",
    "            subset = df_swot[df_swot['time_diff'] == min_diff]\n",
    "            ugos_an = subset['ugos_filtered'].values - np.nanmean(subset['ugos_mean_transect'].values)\n",
    "            vgos_an = subset['vgos_filtered'].values - np.nanmean(subset['vgos_mean_transect'].values)\n",
    "            lon_sw, lat_sw = subset['longitude'].values, subset['latitude'].values\n",
    "\n",
    "            u_interp = griddata((lon_sw, lat_sw), ugos_an, (lon_drifter, lat_drifter), method='cubic')\n",
    "            v_interp = griddata((lon_sw, lat_sw), vgos_an, (lon_drifter, lat_drifter), method='cubic')\n",
    "\n",
    "            if min_diff == min1:\n",
    "                u_interp1, v_interp1 = u_interp, v_interp\n",
    "            else:\n",
    "                u_interp2, v_interp2 = u_interp, v_interp\n",
    "\n",
    "        denom = min1 + min2\n",
    "        u_int_def = (u_interp1 * min2 + u_interp2 * min1) / denom\n",
    "        v_int_def = (v_interp1 * min2 + v_interp2 * min1) / denom\n",
    "\n",
    "        u_swot_int.append(u_int_def)\n",
    "        v_swot_int.append(v_int_def)\n",
    "\n",
    "    u_svp_all.extend(u_svp)\n",
    "    v_svp_all.extend(v_svp)\n",
    "    u_swot_all.extend(u_swot_int)\n",
    "    v_swot_all.extend(v_swot_int)\n",
    "\n",
    "u_svp_all = np.array(u_svp_all)\n",
    "v_svp_all = np.array(v_svp_all)\n",
    "u_swot_all = np.array(u_swot_all)\n",
    "v_swot_all = np.array(v_swot_all)\n",
    "\n",
    "# MODULE\n",
    "abs_vel_svp = np.sqrt(u_svp_all**2 + v_svp_all**2)\n",
    "abs_vel_swot = np.sqrt(u_swot_all**2 + v_swot_all**2)\n",
    "\n",
    "\n",
    "rmsd = np.sqrt(np.nanmean((abs_vel_svp - abs_vel_swot) ** 2))\n",
    "print(f'RMSE (módulo): {rmsd:.4f} m/s')\n",
    "\n",
    "# # Dirección\n",
    "# dir_vel_svp = np.degrees(np.arctan2(u_svp_all, v_svp_all))\n",
    "# dir_vel_swot = np.degrees(np.arctan2(u_swot_all, v_swot_all))\n",
    "\n",
    "# def ang_err_180(angles):\n",
    "#     angles = np.where(angles < -180., 360 + angles, angles)\n",
    "#     angles = np.where(angles > 180., angles - 360, angles)\n",
    "#     return angles\n",
    "\n",
    "# angle_diff = ang_err_180(dir_vel_svp - dir_vel_swot)\n",
    "# rmse_dir = np.sqrt(np.nanmean(angle_diff ** 2))\n",
    "# print(f'RMSE dirección: {rmse_dir:.2f} grados')"
   ]
  },
  {
   "cell_type": "code",
   "execution_count": 2,
   "id": "6178430f",
   "metadata": {},
   "outputs": [
    {
     "data": {
      "text/plain": [
       "31.2267657992565"
      ]
     },
     "execution_count": 2,
     "metadata": {},
     "output_type": "execute_result"
    }
   ],
   "source": [
    "percent_improv_modul = 100*(10.76 - 7.4)/10.76\n",
    "percent_improv_modul"
   ]
  },
  {
   "cell_type": "markdown",
   "id": "ee6fac8a",
   "metadata": {},
   "source": [
    "## BOOTSTRAP"
   ]
  },
  {
   "cell_type": "markdown",
   "id": "88835787",
   "metadata": {},
   "source": [
    "MODULE"
   ]
  },
  {
   "cell_type": "code",
   "execution_count": 6,
   "id": "53142c6f",
   "metadata": {},
   "outputs": [
    {
     "name": "stdout",
     "output_type": "stream",
     "text": [
      "RMSD: 0.0740\n",
      "95% Confidence Interval: ConfidenceInterval(low=np.float64(0.06977504141634953), high=np.float64(0.07920249844900723))\n"
     ]
    }
   ],
   "source": [
    "def rmsd(drifter, swot, axis=0):\n",
    "    \"\"\"Compute Root Mean Square Deviation (RMSD).\"\"\"\n",
    "    diff = drifter - swot\n",
    "    return np.sqrt(np.nanmean(diff**2, axis=axis))\n",
    "\n",
    "# Combine data into a tuple without reshaping\n",
    "data = (abs_vel_svp, abs_vel_swot)\n",
    "\n",
    "# Perform bootstrap resampling\n",
    "res = bootstrap(\n",
    "    data, \n",
    "    statistic=rmsd, \n",
    "    n_resamples=1000, \n",
    "    confidence_level=0.95, \n",
    "    method='BCa',  # Bias-Corrected and Accelerated bootstrap method\n",
    "    paired=True,  # Since we compare paired velocity values\n",
    "    random_state=42  # For reproducibility\n",
    ")\n",
    "\n",
    "# Print results\n",
    "print(f\"RMSD: {rmsd(abs_vel_svp, abs_vel_swot):.4f}\")\n",
    "# print(f\"RMSD: {rmsd(np.array(subsampling), np.array(subsampling_duacs)):.4f}\")\n",
    "\n",
    "print(f\"95% Confidence Interval: {res.confidence_interval}\")"
   ]
  },
  {
   "cell_type": "code",
   "execution_count": 7,
   "id": "1007f983",
   "metadata": {},
   "outputs": [
    {
     "data": {
      "text/plain": [
       "(np.float64(0.06977504141634953), np.float64(0.07920249844900723))"
      ]
     },
     "execution_count": 7,
     "metadata": {},
     "output_type": "execute_result"
    }
   ],
   "source": [
    "# low confidence interval\n",
    "low_ci = res.confidence_interval[0]\n",
    "high_ci = res.confidence_interval[1]\n",
    "low_ci, high_ci"
   ]
  },
  {
   "cell_type": "code",
   "execution_count": 8,
   "id": "4a24be32",
   "metadata": {},
   "outputs": [
    {
     "data": {
      "text/plain": [
       "(np.float64(0.004224958583650462), np.float64(0.005202498449007234))"
      ]
     },
     "execution_count": 8,
     "metadata": {},
     "output_type": "execute_result"
    }
   ],
   "source": [
    "0.0740 - low_ci, high_ci - 0.0740 # longitude of the error bar"
   ]
  },
  {
   "cell_type": "code",
   "execution_count": 9,
   "id": "47dcaa7b",
   "metadata": {},
   "outputs": [
    {
     "data": {
      "text/plain": [
       "np.float64(0.4713728516328848)"
      ]
     },
     "execution_count": 9,
     "metadata": {},
     "output_type": "execute_result"
    }
   ],
   "source": [
    "(((0.0740- low_ci)*100) + ((high_ci - 0.0740)*100))/2"
   ]
  }
 ],
 "metadata": {
  "kernelspec": {
   "display_name": "env_elisabet",
   "language": "python",
   "name": "python3"
  },
  "language_info": {
   "codemirror_mode": {
    "name": "ipython",
    "version": 3
   },
   "file_extension": ".py",
   "mimetype": "text/x-python",
   "name": "python",
   "nbconvert_exporter": "python",
   "pygments_lexer": "ipython3",
   "version": "3.11.11"
  }
 },
 "nbformat": 4,
 "nbformat_minor": 5
}
