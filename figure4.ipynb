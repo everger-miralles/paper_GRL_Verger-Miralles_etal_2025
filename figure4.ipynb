{
 "cells": [
  {
   "cell_type": "markdown",
   "metadata": {},
   "source": [
    "# Figure 4 – Verger-Miralles et al. (2025)\n",
    "\n",
    "**SWOT enhances small-scale eddy detection in the Mediterranean Sea**\n",
    "\n",
    "Author: *Elisabet Verger-Miralles*  \n",
    "Institution: IMEDEA (CSIC-UIB)\n"
   ]
  },
  {
   "cell_type": "code",
   "execution_count": 1,
   "metadata": {},
   "outputs": [],
   "source": [
    "import glob\n",
    "import pandas as pd\n",
    "import matplotlib.pyplot as plt\n",
    "import xarray as xr\n",
    "import numpy as np\n",
    "import math\n",
    "import cmath\n",
    "from scipy.interpolate import griddata\n",
    "from scipy.fft import fft, fftfreq\n",
    "from scipy.interpolate import interp1d\n",
    "import cmocean\n",
    "import cartopy.crs           as ccrs\n",
    "import cartopy.feature       as cfeature\n",
    "import matplotlib.gridspec   as gridspec\n",
    "from functions import *"
   ]
  },
  {
   "cell_type": "code",
   "execution_count": 2,
   "metadata": {},
   "outputs": [],
   "source": [
    "trans = 6\n",
    "dep = 80"
   ]
  },
  {
   "cell_type": "markdown",
   "metadata": {},
   "source": [
    "# ADCP"
   ]
  },
  {
   "cell_type": "markdown",
   "metadata": {},
   "source": [
    "#### IMPORT DATA "
   ]
  },
  {
   "cell_type": "code",
   "execution_count": 3,
   "metadata": {},
   "outputs": [],
   "source": [
    "dir_adcp = '../../grl_codes_to_publish_def_swotv1.0/data/adcp/'\n",
    "ds = xr.open_dataset(dir_adcp + 'adcp_selected_transects_fast_swot.nc')"
   ]
  },
  {
   "cell_type": "code",
   "execution_count": 4,
   "metadata": {},
   "outputs": [],
   "source": [
    "df = ds.to_dataframe().reset_index(drop=False)"
   ]
  },
  {
   "cell_type": "code",
   "execution_count": 5,
   "metadata": {},
   "outputs": [],
   "source": [
    "lon_adcp = np.array(df.loc[(df.transect_id==trans)& (df.depth==dep),'lon']) # basta a una prof, lon i lat a totes les prof. serà la mateixa\n",
    "lat_adcp = np.array(df.loc[(df.transect_id==trans)& (df.depth==dep),'lat'])"
   ]
  },
  {
   "cell_type": "code",
   "execution_count": 6,
   "metadata": {},
   "outputs": [],
   "source": [
    "u_adcp = df.loc[(df.transect_id==trans) & (df.depth==dep),'u']\n",
    "v_adcp = df.loc[(df.transect_id==trans) & (df.depth==dep),'v']"
   ]
  },
  {
   "cell_type": "markdown",
   "metadata": {},
   "source": [
    "### FILTER DATA"
   ]
  },
  {
   "cell_type": "code",
   "execution_count": 7,
   "metadata": {},
   "outputs": [],
   "source": [
    "# Initialize the first point (start of the transect)\n",
    "lat0, lon0 = lat_adcp[0], lon_adcp[0]\n",
    "\n",
    "# Calculate distances from the first point to each point\n",
    "distances = [haversine(lat0, lon0, lat, lon) for lat, lon in zip(lat_adcp, lon_adcp)]\n",
    "\n",
    "# Generate regular distance intervals (0.25 km)\n",
    "max_distance = distances[-1]\n",
    "regular_distances = np.arange(0, max_distance, 0.25)\n",
    "\n",
    "# Interpolation function\n",
    "interpolator = interp1d(distances, list(zip(lat_adcp, lon_adcp)), axis=0, kind='linear')\n",
    "\n",
    "# Interpolate latitudes and longitudes at regular distances\n",
    "interpolated_points = interpolator(regular_distances)\n",
    "interpolated_lats, interpolated_lons = interpolated_points.T"
   ]
  },
  {
   "cell_type": "code",
   "execution_count": 8,
   "metadata": {},
   "outputs": [],
   "source": [
    "# Filter parameters\n",
    "cutoff_distance = 0.067 # cutoff frequency in 1/5 km = 0.2, 1/10km = 0.1, 1/0.067 = 15 km\n",
    "fs = 1 / (regular_distances[1] - regular_distances[0])  # sampling frequency in points per km"
   ]
  },
  {
   "cell_type": "code",
   "execution_count": 9,
   "metadata": {},
   "outputs": [
    {
     "data": {
      "text/plain": [
       "np.float64(0.25)"
      ]
     },
     "execution_count": 9,
     "metadata": {},
     "output_type": "execute_result"
    }
   ],
   "source": [
    "regular_distances[1] - regular_distances[0]"
   ]
  },
  {
   "cell_type": "code",
   "execution_count": 10,
   "metadata": {},
   "outputs": [],
   "source": [
    "# Interpolation function for velocities\n",
    "interpolator_u= interp1d(distances, u_adcp, kind='linear')\n",
    "interpolator_v= interp1d(distances, v_adcp, kind='linear')\n",
    "\n",
    "# Interpolate velocities at regular distances\n",
    "interpolated_u = interpolator_u(regular_distances)\n",
    "interpolated_v = interpolator_v(regular_distances)\n",
    "\n",
    "# Apply the low-pass filter to the interpolated velocities\n",
    "u_filtered = low_pass_filter(interpolated_u, cutoff_distance, fs)\n",
    "v_filtered = low_pass_filter(interpolated_v, cutoff_distance, fs)"
   ]
  },
  {
   "cell_type": "markdown",
   "metadata": {},
   "source": [
    "### COMPUTE CROSS-SECTION VELOCITIES"
   ]
  },
  {
   "cell_type": "code",
   "execution_count": 11,
   "metadata": {},
   "outputs": [],
   "source": [
    "# Coordinates of two points of the section (used to compute angle)\n",
    "lon1=1.41;\n",
    "lat1=39.65;\n",
    "lon2=1.58;\n",
    "lat2=40;"
   ]
  },
  {
   "cell_type": "code",
   "execution_count": null,
   "metadata": {},
   "outputs": [],
   "source": [
    "# Compute angle \n",
    "# dlon=lon2-lon1;\n",
    "# dlat=lat2-lat1;\n",
    "dlon=lon1-lon2;\n",
    "dlat=lat1-lat2;\n",
    "mean_lat = math.radians((lat1 + lat2) / 2.0) # in radians\n",
    "angle=np.rad2deg(np.arctan2(dlat,dlon*math.cos(mean_lat)));  "
   ]
  },
  {
   "cell_type": "code",
   "execution_count": 13,
   "metadata": {},
   "outputs": [],
   "source": [
    "# Calculate the rotated complex number\n",
    "uv_rotated = (u_filtered + 1j*v_filtered) * cmath.exp(1j * (-angle) * cmath.pi / 180)\n",
    "uv_rotated_unfiltered = (u_adcp+ 1j*v_adcp) * cmath.exp(1j * (-angle) * cmath.pi / 180)\n",
    "\n",
    "# Extract along- and cross-section values\n",
    "uv_along = uv_rotated.real\n",
    "uv_cross = np.array(uv_rotated).imag\n",
    "uv_cross_unfiltered = np.array(uv_rotated_unfiltered).imag"
   ]
  },
  {
   "cell_type": "markdown",
   "metadata": {},
   "source": [
    "# SWOT"
   ]
  },
  {
   "cell_type": "code",
   "execution_count": 14,
   "metadata": {},
   "outputs": [],
   "source": [
    "dir_SWOT = '../../grl_codes_to_publish_def_swotv1.0/data/SWOT/'\n",
    "file_swot = 'SWOT_L3_LR_SSH_Expert_502_016_20230426T062612_20230426T071716_v1.0.nc' # 26 april"
   ]
  },
  {
   "cell_type": "code",
   "execution_count": 15,
   "metadata": {},
   "outputs": [
    {
     "data": {
      "text/html": [
       "<div><svg style=\"position: absolute; width: 0; height: 0; overflow: hidden\">\n",
       "<defs>\n",
       "<symbol id=\"icon-database\" viewBox=\"0 0 32 32\">\n",
       "<path d=\"M16 0c-8.837 0-16 2.239-16 5v4c0 2.761 7.163 5 16 5s16-2.239 16-5v-4c0-2.761-7.163-5-16-5z\"></path>\n",
       "<path d=\"M16 17c-8.837 0-16-2.239-16-5v6c0 2.761 7.163 5 16 5s16-2.239 16-5v-6c0 2.761-7.163 5-16 5z\"></path>\n",
       "<path d=\"M16 26c-8.837 0-16-2.239-16-5v6c0 2.761 7.163 5 16 5s16-2.239 16-5v-6c0 2.761-7.163 5-16 5z\"></path>\n",
       "</symbol>\n",
       "<symbol id=\"icon-file-text2\" viewBox=\"0 0 32 32\">\n",
       "<path d=\"M28.681 7.159c-0.694-0.947-1.662-2.053-2.724-3.116s-2.169-2.030-3.116-2.724c-1.612-1.182-2.393-1.319-2.841-1.319h-15.5c-1.378 0-2.5 1.121-2.5 2.5v27c0 1.378 1.122 2.5 2.5 2.5h23c1.378 0 2.5-1.122 2.5-2.5v-19.5c0-0.448-0.137-1.23-1.319-2.841zM24.543 5.457c0.959 0.959 1.712 1.825 2.268 2.543h-4.811v-4.811c0.718 0.556 1.584 1.309 2.543 2.268zM28 29.5c0 0.271-0.229 0.5-0.5 0.5h-23c-0.271 0-0.5-0.229-0.5-0.5v-27c0-0.271 0.229-0.5 0.5-0.5 0 0 15.499-0 15.5 0v7c0 0.552 0.448 1 1 1h7v19.5z\"></path>\n",
       "<path d=\"M23 26h-14c-0.552 0-1-0.448-1-1s0.448-1 1-1h14c0.552 0 1 0.448 1 1s-0.448 1-1 1z\"></path>\n",
       "<path d=\"M23 22h-14c-0.552 0-1-0.448-1-1s0.448-1 1-1h14c0.552 0 1 0.448 1 1s-0.448 1-1 1z\"></path>\n",
       "<path d=\"M23 18h-14c-0.552 0-1-0.448-1-1s0.448-1 1-1h14c0.552 0 1 0.448 1 1s-0.448 1-1 1z\"></path>\n",
       "</symbol>\n",
       "</defs>\n",
       "</svg>\n",
       "<style>/* CSS stylesheet for displaying xarray objects in jupyterlab.\n",
       " *\n",
       " */\n",
       "\n",
       ":root {\n",
       "  --xr-font-color0: var(--jp-content-font-color0, rgba(0, 0, 0, 1));\n",
       "  --xr-font-color2: var(--jp-content-font-color2, rgba(0, 0, 0, 0.54));\n",
       "  --xr-font-color3: var(--jp-content-font-color3, rgba(0, 0, 0, 0.38));\n",
       "  --xr-border-color: var(--jp-border-color2, #e0e0e0);\n",
       "  --xr-disabled-color: var(--jp-layout-color3, #bdbdbd);\n",
       "  --xr-background-color: var(--jp-layout-color0, white);\n",
       "  --xr-background-color-row-even: var(--jp-layout-color1, white);\n",
       "  --xr-background-color-row-odd: var(--jp-layout-color2, #eeeeee);\n",
       "}\n",
       "\n",
       "html[theme=\"dark\"],\n",
       "html[data-theme=\"dark\"],\n",
       "body[data-theme=\"dark\"],\n",
       "body.vscode-dark {\n",
       "  --xr-font-color0: rgba(255, 255, 255, 1);\n",
       "  --xr-font-color2: rgba(255, 255, 255, 0.54);\n",
       "  --xr-font-color3: rgba(255, 255, 255, 0.38);\n",
       "  --xr-border-color: #1f1f1f;\n",
       "  --xr-disabled-color: #515151;\n",
       "  --xr-background-color: #111111;\n",
       "  --xr-background-color-row-even: #111111;\n",
       "  --xr-background-color-row-odd: #313131;\n",
       "}\n",
       "\n",
       ".xr-wrap {\n",
       "  display: block !important;\n",
       "  min-width: 300px;\n",
       "  max-width: 700px;\n",
       "}\n",
       "\n",
       ".xr-text-repr-fallback {\n",
       "  /* fallback to plain text repr when CSS is not injected (untrusted notebook) */\n",
       "  display: none;\n",
       "}\n",
       "\n",
       ".xr-header {\n",
       "  padding-top: 6px;\n",
       "  padding-bottom: 6px;\n",
       "  margin-bottom: 4px;\n",
       "  border-bottom: solid 1px var(--xr-border-color);\n",
       "}\n",
       "\n",
       ".xr-header > div,\n",
       ".xr-header > ul {\n",
       "  display: inline;\n",
       "  margin-top: 0;\n",
       "  margin-bottom: 0;\n",
       "}\n",
       "\n",
       ".xr-obj-type,\n",
       ".xr-array-name {\n",
       "  margin-left: 2px;\n",
       "  margin-right: 10px;\n",
       "}\n",
       "\n",
       ".xr-obj-type {\n",
       "  color: var(--xr-font-color2);\n",
       "}\n",
       "\n",
       ".xr-sections {\n",
       "  padding-left: 0 !important;\n",
       "  display: grid;\n",
       "  grid-template-columns: 150px auto auto 1fr 0 20px 0 20px;\n",
       "}\n",
       "\n",
       ".xr-section-item {\n",
       "  display: contents;\n",
       "}\n",
       "\n",
       ".xr-section-item input {\n",
       "  display: inline-block;\n",
       "  opacity: 0;\n",
       "  height: 0;\n",
       "}\n",
       "\n",
       ".xr-section-item input + label {\n",
       "  color: var(--xr-disabled-color);\n",
       "}\n",
       "\n",
       ".xr-section-item input:enabled + label {\n",
       "  cursor: pointer;\n",
       "  color: var(--xr-font-color2);\n",
       "}\n",
       "\n",
       ".xr-section-item input:focus + label {\n",
       "  border: 2px solid var(--xr-font-color0);\n",
       "}\n",
       "\n",
       ".xr-section-item input:enabled + label:hover {\n",
       "  color: var(--xr-font-color0);\n",
       "}\n",
       "\n",
       ".xr-section-summary {\n",
       "  grid-column: 1;\n",
       "  color: var(--xr-font-color2);\n",
       "  font-weight: 500;\n",
       "}\n",
       "\n",
       ".xr-section-summary > span {\n",
       "  display: inline-block;\n",
       "  padding-left: 0.5em;\n",
       "}\n",
       "\n",
       ".xr-section-summary-in:disabled + label {\n",
       "  color: var(--xr-font-color2);\n",
       "}\n",
       "\n",
       ".xr-section-summary-in + label:before {\n",
       "  display: inline-block;\n",
       "  content: \"►\";\n",
       "  font-size: 11px;\n",
       "  width: 15px;\n",
       "  text-align: center;\n",
       "}\n",
       "\n",
       ".xr-section-summary-in:disabled + label:before {\n",
       "  color: var(--xr-disabled-color);\n",
       "}\n",
       "\n",
       ".xr-section-summary-in:checked + label:before {\n",
       "  content: \"▼\";\n",
       "}\n",
       "\n",
       ".xr-section-summary-in:checked + label > span {\n",
       "  display: none;\n",
       "}\n",
       "\n",
       ".xr-section-summary,\n",
       ".xr-section-inline-details {\n",
       "  padding-top: 4px;\n",
       "  padding-bottom: 4px;\n",
       "}\n",
       "\n",
       ".xr-section-inline-details {\n",
       "  grid-column: 2 / -1;\n",
       "}\n",
       "\n",
       ".xr-section-details {\n",
       "  display: none;\n",
       "  grid-column: 1 / -1;\n",
       "  margin-bottom: 5px;\n",
       "}\n",
       "\n",
       ".xr-section-summary-in:checked ~ .xr-section-details {\n",
       "  display: contents;\n",
       "}\n",
       "\n",
       ".xr-array-wrap {\n",
       "  grid-column: 1 / -1;\n",
       "  display: grid;\n",
       "  grid-template-columns: 20px auto;\n",
       "}\n",
       "\n",
       ".xr-array-wrap > label {\n",
       "  grid-column: 1;\n",
       "  vertical-align: top;\n",
       "}\n",
       "\n",
       ".xr-preview {\n",
       "  color: var(--xr-font-color3);\n",
       "}\n",
       "\n",
       ".xr-array-preview,\n",
       ".xr-array-data {\n",
       "  padding: 0 5px !important;\n",
       "  grid-column: 2;\n",
       "}\n",
       "\n",
       ".xr-array-data,\n",
       ".xr-array-in:checked ~ .xr-array-preview {\n",
       "  display: none;\n",
       "}\n",
       "\n",
       ".xr-array-in:checked ~ .xr-array-data,\n",
       ".xr-array-preview {\n",
       "  display: inline-block;\n",
       "}\n",
       "\n",
       ".xr-dim-list {\n",
       "  display: inline-block !important;\n",
       "  list-style: none;\n",
       "  padding: 0 !important;\n",
       "  margin: 0;\n",
       "}\n",
       "\n",
       ".xr-dim-list li {\n",
       "  display: inline-block;\n",
       "  padding: 0;\n",
       "  margin: 0;\n",
       "}\n",
       "\n",
       ".xr-dim-list:before {\n",
       "  content: \"(\";\n",
       "}\n",
       "\n",
       ".xr-dim-list:after {\n",
       "  content: \")\";\n",
       "}\n",
       "\n",
       ".xr-dim-list li:not(:last-child):after {\n",
       "  content: \",\";\n",
       "  padding-right: 5px;\n",
       "}\n",
       "\n",
       ".xr-has-index {\n",
       "  font-weight: bold;\n",
       "}\n",
       "\n",
       ".xr-var-list,\n",
       ".xr-var-item {\n",
       "  display: contents;\n",
       "}\n",
       "\n",
       ".xr-var-item > div,\n",
       ".xr-var-item label,\n",
       ".xr-var-item > .xr-var-name span {\n",
       "  background-color: var(--xr-background-color-row-even);\n",
       "  margin-bottom: 0;\n",
       "}\n",
       "\n",
       ".xr-var-item > .xr-var-name:hover span {\n",
       "  padding-right: 5px;\n",
       "}\n",
       "\n",
       ".xr-var-list > li:nth-child(odd) > div,\n",
       ".xr-var-list > li:nth-child(odd) > label,\n",
       ".xr-var-list > li:nth-child(odd) > .xr-var-name span {\n",
       "  background-color: var(--xr-background-color-row-odd);\n",
       "}\n",
       "\n",
       ".xr-var-name {\n",
       "  grid-column: 1;\n",
       "}\n",
       "\n",
       ".xr-var-dims {\n",
       "  grid-column: 2;\n",
       "}\n",
       "\n",
       ".xr-var-dtype {\n",
       "  grid-column: 3;\n",
       "  text-align: right;\n",
       "  color: var(--xr-font-color2);\n",
       "}\n",
       "\n",
       ".xr-var-preview {\n",
       "  grid-column: 4;\n",
       "}\n",
       "\n",
       ".xr-index-preview {\n",
       "  grid-column: 2 / 5;\n",
       "  color: var(--xr-font-color2);\n",
       "}\n",
       "\n",
       ".xr-var-name,\n",
       ".xr-var-dims,\n",
       ".xr-var-dtype,\n",
       ".xr-preview,\n",
       ".xr-attrs dt {\n",
       "  white-space: nowrap;\n",
       "  overflow: hidden;\n",
       "  text-overflow: ellipsis;\n",
       "  padding-right: 10px;\n",
       "}\n",
       "\n",
       ".xr-var-name:hover,\n",
       ".xr-var-dims:hover,\n",
       ".xr-var-dtype:hover,\n",
       ".xr-attrs dt:hover {\n",
       "  overflow: visible;\n",
       "  width: auto;\n",
       "  z-index: 1;\n",
       "}\n",
       "\n",
       ".xr-var-attrs,\n",
       ".xr-var-data,\n",
       ".xr-index-data {\n",
       "  display: none;\n",
       "  background-color: var(--xr-background-color) !important;\n",
       "  padding-bottom: 5px !important;\n",
       "}\n",
       "\n",
       ".xr-var-attrs-in:checked ~ .xr-var-attrs,\n",
       ".xr-var-data-in:checked ~ .xr-var-data,\n",
       ".xr-index-data-in:checked ~ .xr-index-data {\n",
       "  display: block;\n",
       "}\n",
       "\n",
       ".xr-var-data > table {\n",
       "  float: right;\n",
       "}\n",
       "\n",
       ".xr-var-name span,\n",
       ".xr-var-data,\n",
       ".xr-index-name div,\n",
       ".xr-index-data,\n",
       ".xr-attrs {\n",
       "  padding-left: 25px !important;\n",
       "}\n",
       "\n",
       ".xr-attrs,\n",
       ".xr-var-attrs,\n",
       ".xr-var-data,\n",
       ".xr-index-data {\n",
       "  grid-column: 1 / -1;\n",
       "}\n",
       "\n",
       "dl.xr-attrs {\n",
       "  padding: 0;\n",
       "  margin: 0;\n",
       "  display: grid;\n",
       "  grid-template-columns: 125px auto;\n",
       "}\n",
       "\n",
       ".xr-attrs dt,\n",
       ".xr-attrs dd {\n",
       "  padding: 0;\n",
       "  margin: 0;\n",
       "  float: left;\n",
       "  padding-right: 10px;\n",
       "  width: auto;\n",
       "}\n",
       "\n",
       ".xr-attrs dt {\n",
       "  font-weight: normal;\n",
       "  grid-column: 1;\n",
       "}\n",
       "\n",
       ".xr-attrs dt:hover span {\n",
       "  display: inline-block;\n",
       "  background: var(--xr-background-color);\n",
       "  padding-right: 10px;\n",
       "}\n",
       "\n",
       ".xr-attrs dd {\n",
       "  grid-column: 2;\n",
       "  white-space: pre-wrap;\n",
       "  word-break: break-all;\n",
       "}\n",
       "\n",
       ".xr-icon-database,\n",
       ".xr-icon-file-text2,\n",
       ".xr-no-icon {\n",
       "  display: inline-block;\n",
       "  vertical-align: middle;\n",
       "  width: 1em;\n",
       "  height: 1.5em !important;\n",
       "  stroke-width: 0;\n",
       "  stroke: currentColor;\n",
       "  fill: currentColor;\n",
       "}\n",
       "</style><pre class='xr-text-repr-fallback'>&lt;xarray.Dataset&gt; Size: 82MB\n",
       "Dimensions:               (num_lines: 9860, num_pixels: 69, num_nadir: 1311)\n",
       "Coordinates:\n",
       "    latitude              (num_lines, num_pixels) float64 5MB ...\n",
       "    longitude             (num_lines, num_pixels) float64 5MB ...\n",
       "Dimensions without coordinates: num_lines, num_pixels, num_nadir\n",
       "Data variables: (12/18)\n",
       "    time                  (num_lines) datetime64[ns] 79kB ...\n",
       "    mdt                   (num_lines, num_pixels) float64 5MB ...\n",
       "    ssha                  (num_lines, num_pixels) float64 5MB ...\n",
       "    ssha_noiseless        (num_lines, num_pixels) float64 5MB ...\n",
       "    ssha_unedited         (num_lines, num_pixels) float64 5MB ...\n",
       "    quality_flag          (num_lines, num_pixels) uint8 680kB ...\n",
       "    ...                    ...\n",
       "    ugosa                 (num_lines, num_pixels) float64 5MB ...\n",
       "    vgosa                 (num_lines, num_pixels) float64 5MB ...\n",
       "    sigma0                (num_lines, num_pixels) float64 5MB ...\n",
       "    cross_track_distance  (num_pixels) float64 552B ...\n",
       "    i_num_line            (num_nadir) int16 3kB ...\n",
       "    i_num_pixel           (num_nadir) int8 1kB ...\n",
       "Attributes: (12/42)\n",
       "    Conventions:                     CF-1.7\n",
       "    Metadata_Conventions:            Unidata Dataset Discovery v1.0\n",
       "    cdm_data_type:                   Swath\n",
       "    comment:                         Sea Surface Height measured by Altimetry\n",
       "    geospatial_lat_units:            degrees_north\n",
       "    geospatial_lon_units:            degrees_east\n",
       "    ...                              ...\n",
       "    geospatial_lat_min:              -78.272132\n",
       "    geospatial_lat_max:              78.272321\n",
       "    geospatial_lon_min:              6.5e-05\n",
       "    geospatial_lon_max:              359.999908\n",
       "    data_used:                       SWOT KaRIn L2_LR_SSH PGC0 (NASA/CNES). D...\n",
       "    doi:                             https://doi.org/10.24400/527896/A01-2023...</pre><div class='xr-wrap' style='display:none'><div class='xr-header'><div class='xr-obj-type'>xarray.Dataset</div></div><ul class='xr-sections'><li class='xr-section-item'><input id='section-fa678069-8ec7-4ee4-b3ce-ccbcad8804a7' class='xr-section-summary-in' type='checkbox' disabled ><label for='section-fa678069-8ec7-4ee4-b3ce-ccbcad8804a7' class='xr-section-summary'  title='Expand/collapse section'>Dimensions:</label><div class='xr-section-inline-details'><ul class='xr-dim-list'><li><span>num_lines</span>: 9860</li><li><span>num_pixels</span>: 69</li><li><span>num_nadir</span>: 1311</li></ul></div><div class='xr-section-details'></div></li><li class='xr-section-item'><input id='section-030c4226-df89-42fe-92c1-35320ef62164' class='xr-section-summary-in' type='checkbox'  checked><label for='section-030c4226-df89-42fe-92c1-35320ef62164' class='xr-section-summary' >Coordinates: <span>(2)</span></label><div class='xr-section-inline-details'></div><div class='xr-section-details'><ul class='xr-var-list'><li class='xr-var-item'><div class='xr-var-name'><span>latitude</span></div><div class='xr-var-dims'>(num_lines, num_pixels)</div><div class='xr-var-dtype'>float64</div><div class='xr-var-preview xr-preview'>...</div><input id='attrs-695ff46c-f873-4ab0-b863-6c490350e886' class='xr-var-attrs-in' type='checkbox' ><label for='attrs-695ff46c-f873-4ab0-b863-6c490350e886' title='Show/Hide attributes'><svg class='icon xr-icon-file-text2'><use xlink:href='#icon-file-text2'></use></svg></label><input id='data-ffbfb934-c621-409d-a975-514c6d044ec9' class='xr-var-data-in' type='checkbox'><label for='data-ffbfb934-c621-409d-a975-514c6d044ec9' title='Show/Hide data repr'><svg class='icon xr-icon-database'><use xlink:href='#icon-database'></use></svg></label><div class='xr-var-attrs'><dl class='xr-attrs'><dt><span>comment :</span></dt><dd>Latitude of measurement [-80,80]. Positive latitude is North latitude, negative latitude is South latitude.</dd><dt><span>long_name :</span></dt><dd>latitude (positive N, negative S)</dd><dt><span>standard_name :</span></dt><dd>latitude</dd><dt><span>units :</span></dt><dd>degrees_north</dd></dl></div><div class='xr-var-data'><pre>[680340 values with dtype=float64]</pre></div></li><li class='xr-var-item'><div class='xr-var-name'><span>longitude</span></div><div class='xr-var-dims'>(num_lines, num_pixels)</div><div class='xr-var-dtype'>float64</div><div class='xr-var-preview xr-preview'>...</div><input id='attrs-fe098142-f7cb-4700-bea5-ac6c6461ef29' class='xr-var-attrs-in' type='checkbox' ><label for='attrs-fe098142-f7cb-4700-bea5-ac6c6461ef29' title='Show/Hide attributes'><svg class='icon xr-icon-file-text2'><use xlink:href='#icon-file-text2'></use></svg></label><input id='data-defe7969-87d0-4522-8494-f09969630ea6' class='xr-var-data-in' type='checkbox'><label for='data-defe7969-87d0-4522-8494-f09969630ea6' title='Show/Hide data repr'><svg class='icon xr-icon-database'><use xlink:href='#icon-database'></use></svg></label><div class='xr-var-attrs'><dl class='xr-attrs'><dt><span>comment :</span></dt><dd>Longitude of measurement. East longitude relative to Greenwich meridian.</dd><dt><span>long_name :</span></dt><dd>longitude (degrees East)</dd><dt><span>standard_name :</span></dt><dd>longitude</dd><dt><span>units :</span></dt><dd>degrees_east</dd></dl></div><div class='xr-var-data'><pre>[680340 values with dtype=float64]</pre></div></li></ul></div></li><li class='xr-section-item'><input id='section-8ea828bb-d24f-429b-9d41-08e663dc816c' class='xr-section-summary-in' type='checkbox'  ><label for='section-8ea828bb-d24f-429b-9d41-08e663dc816c' class='xr-section-summary' >Data variables: <span>(18)</span></label><div class='xr-section-inline-details'></div><div class='xr-section-details'><ul class='xr-var-list'><li class='xr-var-item'><div class='xr-var-name'><span>time</span></div><div class='xr-var-dims'>(num_lines)</div><div class='xr-var-dtype'>datetime64[ns]</div><div class='xr-var-preview xr-preview'>...</div><input id='attrs-b1eb2cc8-5928-4b2c-9026-0971492b889b' class='xr-var-attrs-in' type='checkbox' ><label for='attrs-b1eb2cc8-5928-4b2c-9026-0971492b889b' title='Show/Hide attributes'><svg class='icon xr-icon-file-text2'><use xlink:href='#icon-file-text2'></use></svg></label><input id='data-4fec16dd-d58d-47a7-b016-78f9d28511b9' class='xr-var-data-in' type='checkbox'><label for='data-4fec16dd-d58d-47a7-b016-78f9d28511b9' title='Show/Hide data repr'><svg class='icon xr-icon-database'><use xlink:href='#icon-database'></use></svg></label><div class='xr-var-attrs'><dl class='xr-attrs'><dt><span>comment :</span></dt><dd>Time of measurement in seconds in the UTC time scale since 1 Jan 2000 00:00:00 UTC. [tai_utc_difference] is the difference between TAI and UTC reference time (seconds) for the first measurement of the data set. If a leap second occurs within the data set, the attribute leap_second is set to the UTC time at which the leap second occurs.</dd><dt><span>leap_second :</span></dt><dd>0000-00-00T00:00:00Z</dd><dt><span>long_name :</span></dt><dd>time in UTC</dd><dt><span>standard_name :</span></dt><dd>time</dd><dt><span>tai_utc_difference :</span></dt><dd>37.0</dd></dl></div><div class='xr-var-data'><pre>[9860 values with dtype=datetime64[ns]]</pre></div></li><li class='xr-var-item'><div class='xr-var-name'><span>mdt</span></div><div class='xr-var-dims'>(num_lines, num_pixels)</div><div class='xr-var-dtype'>float64</div><div class='xr-var-preview xr-preview'>...</div><input id='attrs-e59306ea-6290-410c-ad59-cb0da745e2e0' class='xr-var-attrs-in' type='checkbox' ><label for='attrs-e59306ea-6290-410c-ad59-cb0da745e2e0' title='Show/Hide attributes'><svg class='icon xr-icon-file-text2'><use xlink:href='#icon-file-text2'></use></svg></label><input id='data-be79a676-4eac-4e9e-a044-6a1c91f2cb56' class='xr-var-data-in' type='checkbox'><label for='data-be79a676-4eac-4e9e-a044-6a1c91f2cb56' title='Show/Hide data repr'><svg class='icon xr-icon-database'><use xlink:href='#icon-database'></use></svg></label><div class='xr-var-attrs'><dl class='xr-attrs'><dt><span>comment :</span></dt><dd>The mean dynamic topography is the sea surface height above geoid; it is used to compute the absolute dynamic topography ssh=ssha+mdt</dd><dt><span>units :</span></dt><dd>m</dd><dt><span>long_name :</span></dt><dd>mean dynamic topography</dd><dt><span>standard_name :</span></dt><dd>mean_dynamic_topography_cnes_cls</dd></dl></div><div class='xr-var-data'><pre>[680340 values with dtype=float64]</pre></div></li><li class='xr-var-item'><div class='xr-var-name'><span>ssha</span></div><div class='xr-var-dims'>(num_lines, num_pixels)</div><div class='xr-var-dtype'>float64</div><div class='xr-var-preview xr-preview'>...</div><input id='attrs-302e3a95-f768-47dd-b141-f90cc67210e7' class='xr-var-attrs-in' type='checkbox' ><label for='attrs-302e3a95-f768-47dd-b141-f90cc67210e7' title='Show/Hide attributes'><svg class='icon xr-icon-file-text2'><use xlink:href='#icon-file-text2'></use></svg></label><input id='data-84fb7e6a-cc98-4f64-844a-db353910844d' class='xr-var-data-in' type='checkbox'><label for='data-84fb7e6a-cc98-4f64-844a-db353910844d' title='Show/Hide data repr'><svg class='icon xr-icon-database'><use xlink:href='#icon-database'></use></svg></label><div class='xr-var-attrs'><dl class='xr-attrs'><dt><span>long_name :</span></dt><dd>sea surface height anomaly</dd><dt><span>standard_name :</span></dt><dd>sea_surface_height_above_reference_ellipsoid</dd><dt><span>comment :</span></dt><dd>Height of the sea surface anomaly with all corrections applied.</dd><dt><span>units :</span></dt><dd>m</dd></dl></div><div class='xr-var-data'><pre>[680340 values with dtype=float64]</pre></div></li><li class='xr-var-item'><div class='xr-var-name'><span>ssha_noiseless</span></div><div class='xr-var-dims'>(num_lines, num_pixels)</div><div class='xr-var-dtype'>float64</div><div class='xr-var-preview xr-preview'>...</div><input id='attrs-900562ce-ef85-4080-bd63-aa5bf0bf9b6b' class='xr-var-attrs-in' type='checkbox' ><label for='attrs-900562ce-ef85-4080-bd63-aa5bf0bf9b6b' title='Show/Hide attributes'><svg class='icon xr-icon-file-text2'><use xlink:href='#icon-file-text2'></use></svg></label><input id='data-e7da1854-038f-4474-9918-957fcdeb91cc' class='xr-var-data-in' type='checkbox'><label for='data-e7da1854-038f-4474-9918-957fcdeb91cc' title='Show/Hide data repr'><svg class='icon xr-icon-database'><use xlink:href='#icon-database'></use></svg></label><div class='xr-var-attrs'><dl class='xr-attrs'><dt><span>comment :</span></dt><dd>Height of the sea surface anomaly with all corrections applied and denoised using Unet model and Gomez algorithm.</dd><dt><span>long_name :</span></dt><dd>sea surface height anomaly without noise</dd><dt><span>standard_name :</span></dt><dd>sea_surface_height_above_reference_ellipsoid</dd><dt><span>units :</span></dt><dd>m</dd></dl></div><div class='xr-var-data'><pre>[680340 values with dtype=float64]</pre></div></li><li class='xr-var-item'><div class='xr-var-name'><span>ssha_unedited</span></div><div class='xr-var-dims'>(num_lines, num_pixels)</div><div class='xr-var-dtype'>float64</div><div class='xr-var-preview xr-preview'>...</div><input id='attrs-361dd315-1d19-46e8-823d-41883b39c72a' class='xr-var-attrs-in' type='checkbox' ><label for='attrs-361dd315-1d19-46e8-823d-41883b39c72a' title='Show/Hide attributes'><svg class='icon xr-icon-file-text2'><use xlink:href='#icon-file-text2'></use></svg></label><input id='data-efa106bd-08d8-4ba8-a847-e28405003e99' class='xr-var-data-in' type='checkbox'><label for='data-efa106bd-08d8-4ba8-a847-e28405003e99' title='Show/Hide data repr'><svg class='icon xr-icon-database'><use xlink:href='#icon-database'></use></svg></label><div class='xr-var-attrs'><dl class='xr-attrs'><dt><span>comment :</span></dt><dd>Height of the sea surface anomaly with all corrections applied but without editing.</dd><dt><span>long_name :</span></dt><dd>sea surface height anomaly without editing</dd><dt><span>standard_name :</span></dt><dd>sea_surface_height_above_reference_ellipsoid</dd><dt><span>units :</span></dt><dd>m</dd></dl></div><div class='xr-var-data'><pre>[680340 values with dtype=float64]</pre></div></li><li class='xr-var-item'><div class='xr-var-name'><span>quality_flag</span></div><div class='xr-var-dims'>(num_lines, num_pixels)</div><div class='xr-var-dtype'>uint8</div><div class='xr-var-preview xr-preview'>...</div><input id='attrs-74dd406f-9fce-4c2e-860c-c2a32e0d111b' class='xr-var-attrs-in' type='checkbox' ><label for='attrs-74dd406f-9fce-4c2e-860c-c2a32e0d111b' title='Show/Hide attributes'><svg class='icon xr-icon-file-text2'><use xlink:href='#icon-file-text2'></use></svg></label><input id='data-57fbe863-511c-47fd-93e1-4ce61a84fe8f' class='xr-var-data-in' type='checkbox'><label for='data-57fbe863-511c-47fd-93e1-4ce61a84fe8f' title='Show/Hide data repr'><svg class='icon xr-icon-database'><use xlink:href='#icon-database'></use></svg></label><div class='xr-var-attrs'><dl class='xr-attrs'><dt><span>comment :</span></dt><dd>Deduced from L3 DUACS processing.</dd><dt><span>flag_masks :</span></dt><dd>[  0   5  10  20  30  50  70 100 101 102]</dd><dt><span>flag_meanings :</span></dt><dd>good local_outliers bad_quality_coast ice soft_outliers extremes mission_event bad_swath_extremities not_on_sea no_data</dd><dt><span>long_name :</span></dt><dd>Quality Flag</dd><dt><span>standard_name :</span></dt><dd>valid_flag_for_data</dd></dl></div><div class='xr-var-data'><pre>[680340 values with dtype=uint8]</pre></div></li><li class='xr-var-item'><div class='xr-var-name'><span>ocean_tide</span></div><div class='xr-var-dims'>(num_lines, num_pixels)</div><div class='xr-var-dtype'>float64</div><div class='xr-var-preview xr-preview'>...</div><input id='attrs-7dd2773f-870f-44d8-8a7c-045953a3624c' class='xr-var-attrs-in' type='checkbox' ><label for='attrs-7dd2773f-870f-44d8-8a7c-045953a3624c' title='Show/Hide attributes'><svg class='icon xr-icon-file-text2'><use xlink:href='#icon-file-text2'></use></svg></label><input id='data-bb6f88bd-4376-4305-a824-77cdc1d2b334' class='xr-var-data-in' type='checkbox'><label for='data-bb6f88bd-4376-4305-a824-77cdc1d2b334' title='Show/Hide data repr'><svg class='icon xr-icon-database'><use xlink:href='#icon-database'></use></svg></label><div class='xr-var-attrs'><dl class='xr-attrs'><dt><span>comment :</span></dt><dd>Geocentric ocean tide height. Includes the total sum of the ocean tide, the corresponding load tide and equilibrium long-period ocean tide height. The ssha in this file is already corrected for the ocean_tide; the uncorrected ssha can be computed as follows: [uncorrected ssha]=[ssha from product]+[ocean_tide]; see the product user manual for details</dd><dt><span>units :</span></dt><dd>m</dd><dt><span>long_name :</span></dt><dd>geocentric ocean tide height (FES)</dd><dt><span>source :</span></dt><dd>FES2022</dd><dt><span>institution :</span></dt><dd>LEGOS/CNES</dd></dl></div><div class='xr-var-data'><pre>[680340 values with dtype=float64]</pre></div></li><li class='xr-var-item'><div class='xr-var-name'><span>mss</span></div><div class='xr-var-dims'>(num_lines, num_pixels)</div><div class='xr-var-dtype'>float64</div><div class='xr-var-preview xr-preview'>...</div><input id='attrs-4b0f42f1-60e8-45f6-a441-0fc76f0eb282' class='xr-var-attrs-in' type='checkbox' ><label for='attrs-4b0f42f1-60e8-45f6-a441-0fc76f0eb282' title='Show/Hide attributes'><svg class='icon xr-icon-file-text2'><use xlink:href='#icon-file-text2'></use></svg></label><input id='data-3e6a4b91-b447-49c3-ac96-fd46605ab761' class='xr-var-data-in' type='checkbox'><label for='data-3e6a4b91-b447-49c3-ac96-fd46605ab761' title='Show/Hide data repr'><svg class='icon xr-icon-database'><use xlink:href='#icon-database'></use></svg></label><div class='xr-var-attrs'><dl class='xr-attrs'><dt><span>comment :</span></dt><dd>Mean sea surface height above the reference ellipsoid. The value is referenced to the mean tide system, i.e. includes the permanent tide (zero frequency).</dd><dt><span>units :</span></dt><dd>m</dd><dt><span>long_name :</span></dt><dd>mean sea surface height (CNES/CLS)</dd></dl></div><div class='xr-var-data'><pre>[680340 values with dtype=float64]</pre></div></li><li class='xr-var-item'><div class='xr-var-name'><span>dac</span></div><div class='xr-var-dims'>(num_lines, num_pixels)</div><div class='xr-var-dtype'>float64</div><div class='xr-var-preview xr-preview'>...</div><input id='attrs-c09b8bfa-154d-4fc7-b29b-a28b76689429' class='xr-var-attrs-in' type='checkbox' ><label for='attrs-c09b8bfa-154d-4fc7-b29b-a28b76689429' title='Show/Hide attributes'><svg class='icon xr-icon-file-text2'><use xlink:href='#icon-file-text2'></use></svg></label><input id='data-ef534e55-bf6c-4c06-90e9-3e326a95b837' class='xr-var-data-in' type='checkbox'><label for='data-ef534e55-bf6c-4c06-90e9-3e326a95b837' title='Show/Hide data repr'><svg class='icon xr-icon-database'><use xlink:href='#icon-database'></use></svg></label><div class='xr-var-attrs'><dl class='xr-attrs'><dt><span>comment :</span></dt><dd>Model estimate of the effect on sea surface topography due to high frequency air pressure and wind effects and the low-frequency height from inverted barometer effect. The ssha in this file is already corrected for the dac; the uncorrected ssha can be computed as follows: [uncorrected ssha]=[ssha from product]+[dac]; see the product user manual for details</dd><dt><span>institution :</span></dt><dd>LEGOS/CNES/CLS</dd><dt><span>long_name :</span></dt><dd>dynamic atmospheric correction</dd><dt><span>source :</span></dt><dd>MOG2D</dd><dt><span>units :</span></dt><dd>m</dd></dl></div><div class='xr-var-data'><pre>[680340 values with dtype=float64]</pre></div></li><li class='xr-var-item'><div class='xr-var-name'><span>calibration</span></div><div class='xr-var-dims'>(num_lines, num_pixels)</div><div class='xr-var-dtype'>float64</div><div class='xr-var-preview xr-preview'>...</div><input id='attrs-b09ead97-e079-4235-b15d-696be0e4f01b' class='xr-var-attrs-in' type='checkbox' ><label for='attrs-b09ead97-e079-4235-b15d-696be0e4f01b' title='Show/Hide attributes'><svg class='icon xr-icon-file-text2'><use xlink:href='#icon-file-text2'></use></svg></label><input id='data-e9539820-74ae-4450-b448-18010b3d1bb3' class='xr-var-data-in' type='checkbox'><label for='data-e9539820-74ae-4450-b448-18010b3d1bb3' title='Show/Hide data repr'><svg class='icon xr-icon-database'><use xlink:href='#icon-database'></use></svg></label><div class='xr-var-attrs'><dl class='xr-attrs'><dt><span>long_name :</span></dt><dd>satellite calibration</dd><dt><span>comment :</span></dt><dd>phase screen + phase_screen_static + phase_screen_orbit + xcal. the uncorrected ssha can be computed as follows: [uncorrected ssha]=[ssha from product] + [calibration]; see the product user manual for details</dd><dt><span>units :</span></dt><dd>m</dd></dl></div><div class='xr-var-data'><pre>[680340 values with dtype=float64]</pre></div></li><li class='xr-var-item'><div class='xr-var-name'><span>ugos</span></div><div class='xr-var-dims'>(num_lines, num_pixels)</div><div class='xr-var-dtype'>float64</div><div class='xr-var-preview xr-preview'>...</div><input id='attrs-fc54152d-7863-40d1-bf2d-9d5ceef12d82' class='xr-var-attrs-in' type='checkbox' ><label for='attrs-fc54152d-7863-40d1-bf2d-9d5ceef12d82' title='Show/Hide attributes'><svg class='icon xr-icon-file-text2'><use xlink:href='#icon-file-text2'></use></svg></label><input id='data-c51b49cd-c672-4a44-aa1a-84278cc1bdeb' class='xr-var-data-in' type='checkbox'><label for='data-c51b49cd-c672-4a44-aa1a-84278cc1bdeb' title='Show/Hide data repr'><svg class='icon xr-icon-database'><use xlink:href='#icon-database'></use></svg></label><div class='xr-var-attrs'><dl class='xr-attrs'><dt><span>long_name :</span></dt><dd>Absolute geostrophic velocity: zonal component</dd><dt><span>standard_name :</span></dt><dd>surface_geostrophic_eastward_sea_water_velocity</dd><dt><span>units :</span></dt><dd>m/s</dd></dl></div><div class='xr-var-data'><pre>[680340 values with dtype=float64]</pre></div></li><li class='xr-var-item'><div class='xr-var-name'><span>vgos</span></div><div class='xr-var-dims'>(num_lines, num_pixels)</div><div class='xr-var-dtype'>float64</div><div class='xr-var-preview xr-preview'>...</div><input id='attrs-79ed49f6-6014-4efb-a794-c23babdc4dc5' class='xr-var-attrs-in' type='checkbox' ><label for='attrs-79ed49f6-6014-4efb-a794-c23babdc4dc5' title='Show/Hide attributes'><svg class='icon xr-icon-file-text2'><use xlink:href='#icon-file-text2'></use></svg></label><input id='data-072eceaf-f42d-4cdf-a373-efdd1c5f2365' class='xr-var-data-in' type='checkbox'><label for='data-072eceaf-f42d-4cdf-a373-efdd1c5f2365' title='Show/Hide data repr'><svg class='icon xr-icon-database'><use xlink:href='#icon-database'></use></svg></label><div class='xr-var-attrs'><dl class='xr-attrs'><dt><span>long_name :</span></dt><dd>Absolute geostrophic velocity: meridian component</dd><dt><span>standard_name :</span></dt><dd>surface_geostrophic_northward_sea_water_velocity</dd><dt><span>units :</span></dt><dd>m/s</dd></dl></div><div class='xr-var-data'><pre>[680340 values with dtype=float64]</pre></div></li><li class='xr-var-item'><div class='xr-var-name'><span>ugosa</span></div><div class='xr-var-dims'>(num_lines, num_pixels)</div><div class='xr-var-dtype'>float64</div><div class='xr-var-preview xr-preview'>...</div><input id='attrs-48286bc3-fc6c-4d9b-a4ec-a265e1990a05' class='xr-var-attrs-in' type='checkbox' ><label for='attrs-48286bc3-fc6c-4d9b-a4ec-a265e1990a05' title='Show/Hide attributes'><svg class='icon xr-icon-file-text2'><use xlink:href='#icon-file-text2'></use></svg></label><input id='data-77c1e78d-9e64-449c-900d-7b6b4a7a6c08' class='xr-var-data-in' type='checkbox'><label for='data-77c1e78d-9e64-449c-900d-7b6b4a7a6c08' title='Show/Hide data repr'><svg class='icon xr-icon-database'><use xlink:href='#icon-database'></use></svg></label><div class='xr-var-attrs'><dl class='xr-attrs'><dt><span>long_name :</span></dt><dd>Geostrophic velocity anomalies: zonal component</dd><dt><span>standard_name :</span></dt><dd>surface_geostrophic_eastward_sea_water_velocity_assuming_sea_level_for_geoid</dd><dt><span>units :</span></dt><dd>m/s</dd></dl></div><div class='xr-var-data'><pre>[680340 values with dtype=float64]</pre></div></li><li class='xr-var-item'><div class='xr-var-name'><span>vgosa</span></div><div class='xr-var-dims'>(num_lines, num_pixels)</div><div class='xr-var-dtype'>float64</div><div class='xr-var-preview xr-preview'>...</div><input id='attrs-438ddc5a-ce83-4805-be88-b261a52736b5' class='xr-var-attrs-in' type='checkbox' ><label for='attrs-438ddc5a-ce83-4805-be88-b261a52736b5' title='Show/Hide attributes'><svg class='icon xr-icon-file-text2'><use xlink:href='#icon-file-text2'></use></svg></label><input id='data-49af7fd1-b3db-4ab4-bc2b-40ed4eb60fde' class='xr-var-data-in' type='checkbox'><label for='data-49af7fd1-b3db-4ab4-bc2b-40ed4eb60fde' title='Show/Hide data repr'><svg class='icon xr-icon-database'><use xlink:href='#icon-database'></use></svg></label><div class='xr-var-attrs'><dl class='xr-attrs'><dt><span>long_name :</span></dt><dd>Geostrophic velocity anomalies: meridian component</dd><dt><span>standard_name :</span></dt><dd>surface_geostrophic_northward_sea_water_velocity_assuming_sea_level_for_geoid</dd><dt><span>units :</span></dt><dd>m/s</dd></dl></div><div class='xr-var-data'><pre>[680340 values with dtype=float64]</pre></div></li><li class='xr-var-item'><div class='xr-var-name'><span>sigma0</span></div><div class='xr-var-dims'>(num_lines, num_pixels)</div><div class='xr-var-dtype'>float64</div><div class='xr-var-preview xr-preview'>...</div><input id='attrs-d2c51c4c-17b9-4b54-8ce9-88e7940b1ce7' class='xr-var-attrs-in' type='checkbox' ><label for='attrs-d2c51c4c-17b9-4b54-8ce9-88e7940b1ce7' title='Show/Hide attributes'><svg class='icon xr-icon-file-text2'><use xlink:href='#icon-file-text2'></use></svg></label><input id='data-8b3a9333-32b0-441d-b887-1b3317792720' class='xr-var-data-in' type='checkbox'><label for='data-8b3a9333-32b0-441d-b887-1b3317792720' title='Show/Hide data repr'><svg class='icon xr-icon-database'><use xlink:href='#icon-database'></use></svg></label><div class='xr-var-attrs'><dl class='xr-attrs'><dt><span>comment :</span></dt><dd>Normalized radar cross section (sigma0) from KaRIn in real, linear units (not decibels).  The value may be negative due to noise subtraction.  The value is corrected for instrument calibration and atmospheric attenuation. A meteorological model provides the atmospheric attenuation (sig0_cor_atmos_model).)</dd><dt><span>long_name :</span></dt><dd>normalized radar cross section (sigma0) from KaRIn)</dd><dt><span>quality_flag :</span></dt><dd>sig0_karin_2_qual</dd><dt><span>standard_name :</span></dt><dd>surface_backwards_scattering_coefficient_of_radar_wave</dd><dt><span>units :</span></dt><dd>1</dd><dt><span>valid_max :</span></dt><dd>10000000</dd><dt><span>valid_min :</span></dt><dd>-1000</dd><dt><span>standart_name :</span></dt><dd>surface_backwards_scattering_coefficient_of_radar_wave</dd></dl></div><div class='xr-var-data'><pre>[680340 values with dtype=float64]</pre></div></li><li class='xr-var-item'><div class='xr-var-name'><span>cross_track_distance</span></div><div class='xr-var-dims'>(num_pixels)</div><div class='xr-var-dtype'>float64</div><div class='xr-var-preview xr-preview'>...</div><input id='attrs-f9841ec1-6179-48ee-98a8-456e158e1437' class='xr-var-attrs-in' type='checkbox' ><label for='attrs-f9841ec1-6179-48ee-98a8-456e158e1437' title='Show/Hide attributes'><svg class='icon xr-icon-file-text2'><use xlink:href='#icon-file-text2'></use></svg></label><input id='data-89ecc035-89e6-41c5-a67c-97d0d147878e' class='xr-var-data-in' type='checkbox'><label for='data-89ecc035-89e6-41c5-a67c-97d0d147878e' title='Show/Hide data repr'><svg class='icon xr-icon-database'><use xlink:href='#icon-database'></use></svg></label><div class='xr-var-attrs'><dl class='xr-attrs'><dt><span>comment :</span></dt><dd>Distance of sample from nadir. Negative values indicate the left side of the swath, and positive values indicate the right side of the swath.)</dd><dt><span>long_name :</span></dt><dd>cross track distance</dd><dt><span>units :</span></dt><dd>m</dd><dt><span>valid_max :</span></dt><dd>75000.0</dd><dt><span>valid_min :</span></dt><dd>-75000.0</dd></dl></div><div class='xr-var-data'><pre>[69 values with dtype=float64]</pre></div></li><li class='xr-var-item'><div class='xr-var-name'><span>i_num_line</span></div><div class='xr-var-dims'>(num_nadir)</div><div class='xr-var-dtype'>int16</div><div class='xr-var-preview xr-preview'>...</div><input id='attrs-4be32c60-05a6-485a-902f-1b0f9f54d5cd' class='xr-var-attrs-in' type='checkbox' ><label for='attrs-4be32c60-05a6-485a-902f-1b0f9f54d5cd' title='Show/Hide attributes'><svg class='icon xr-icon-file-text2'><use xlink:href='#icon-file-text2'></use></svg></label><input id='data-fe359f89-e519-4955-9632-83b338bb66d1' class='xr-var-data-in' type='checkbox'><label for='data-fe359f89-e519-4955-9632-83b338bb66d1' title='Show/Hide data repr'><svg class='icon xr-icon-database'><use xlink:href='#icon-database'></use></svg></label><div class='xr-var-attrs'><dl class='xr-attrs'><dt><span>long_name :</span></dt><dd>alongtrack indice of the nearest karin pixel from the nadir data</dd><dt><span>units :</span></dt><dd>count</dd><dt><span>comment :</span></dt><dd>alongtrack indice of the nearest karin pixel from the nadir data</dd></dl></div><div class='xr-var-data'><pre>[1311 values with dtype=int16]</pre></div></li><li class='xr-var-item'><div class='xr-var-name'><span>i_num_pixel</span></div><div class='xr-var-dims'>(num_nadir)</div><div class='xr-var-dtype'>int8</div><div class='xr-var-preview xr-preview'>...</div><input id='attrs-c6e163e8-75a2-41b5-8583-8001ef291d71' class='xr-var-attrs-in' type='checkbox' ><label for='attrs-c6e163e8-75a2-41b5-8583-8001ef291d71' title='Show/Hide attributes'><svg class='icon xr-icon-file-text2'><use xlink:href='#icon-file-text2'></use></svg></label><input id='data-d4d3df69-8acc-420e-8b63-ee28a0967dd3' class='xr-var-data-in' type='checkbox'><label for='data-d4d3df69-8acc-420e-8b63-ee28a0967dd3' title='Show/Hide data repr'><svg class='icon xr-icon-database'><use xlink:href='#icon-database'></use></svg></label><div class='xr-var-attrs'><dl class='xr-attrs'><dt><span>long_name :</span></dt><dd>acrosstrack indice of the nearest karin pixel from the nadir data</dd><dt><span>units :</span></dt><dd>count</dd><dt><span>comment :</span></dt><dd>acrosstrack indice of the nearest karin pixel from the nadir data</dd></dl></div><div class='xr-var-data'><pre>[1311 values with dtype=int8]</pre></div></li></ul></div></li><li class='xr-section-item'><input id='section-d8fffa5f-f733-4a8d-b0bd-f52073c81e60' class='xr-section-summary-in' type='checkbox' disabled ><label for='section-d8fffa5f-f733-4a8d-b0bd-f52073c81e60' class='xr-section-summary'  title='Expand/collapse section'>Indexes: <span>(0)</span></label><div class='xr-section-inline-details'></div><div class='xr-section-details'><ul class='xr-var-list'></ul></div></li><li class='xr-section-item'><input id='section-613f254a-e8cc-4d48-b864-a529fe158536' class='xr-section-summary-in' type='checkbox'  ><label for='section-613f254a-e8cc-4d48-b864-a529fe158536' class='xr-section-summary' >Attributes: <span>(42)</span></label><div class='xr-section-inline-details'></div><div class='xr-section-details'><dl class='xr-attrs'><dt><span>Conventions :</span></dt><dd>CF-1.7</dd><dt><span>Metadata_Conventions :</span></dt><dd>Unidata Dataset Discovery v1.0</dd><dt><span>cdm_data_type :</span></dt><dd>Swath</dd><dt><span>comment :</span></dt><dd>Sea Surface Height measured by Altimetry</dd><dt><span>geospatial_lat_units :</span></dt><dd>degrees_north</dd><dt><span>geospatial_lon_units :</span></dt><dd>degrees_east</dd><dt><span>geospatial_vertical_max :</span></dt><dd>0,</dd><dt><span>geospatial_vertical_min :</span></dt><dd>0,</dd><dt><span>geospatial_vertical_positive :</span></dt><dd>down</dd><dt><span>geospatial_vertical_resolution :</span></dt><dd>point</dd><dt><span>geospatial_vertical_units :</span></dt><dd>m</dd><dt><span>keywords :</span></dt><dd>Oceans &gt; Ocean Topography &gt; Sea Surface Height</dd><dt><span>keywords_vocabulary :</span></dt><dd>NetCDF COARDS Climate and Forecast Standard Names</dd><dt><span>processing_level :</span></dt><dd>L3</dd><dt><span>product_version :</span></dt><dd>1.0</dd><dt><span>project :</span></dt><dd>SSALTO/DUACS</dd><dt><span>source :</span></dt><dd>Altimetry measurements</dd><dt><span>ssalto_duacs_comment :</span></dt><dd>The reference mission used for the altimeter inter-calibration processing is Sentinel-6A</dd><dt><span>standard_name_vocabulary :</span></dt><dd>NetCDF Climate and Forecast (CF) Metadata Convention Standard Name Table v37</dd><dt><span>time_coverage_resolution :</span></dt><dd>P1S</dd><dt><span>title :</span></dt><dd>NRT SWOT KaRIn &amp; nadir Global Ocean swath SSALTO/DUACS Sea Surface Height L3 product</dd><dt><span>platform :</span></dt><dd>Swot</dd><dt><span>institution :</span></dt><dd>CLS, CNES</dd><dt><span>reference_altimeter :</span></dt><dd>S6</dd><dt><span>contact :</span></dt><dd>aviso@altimetry.fr</dd><dt><span>creator_email :</span></dt><dd>aviso@altimetry.fr</dd><dt><span>creator_name :</span></dt><dd>DUACS - Data Unification and Altimeter Combination System</dd><dt><span>creator_url :</span></dt><dd>https://aviso.altimetry.fr</dd><dt><span>license :</span></dt><dd>https://www.aviso.altimetry.fr/fileadmin/documents/data/License_Aviso.pdf</dd><dt><span>references :</span></dt><dd>https://aviso.altimetry.fr</dd><dt><span>history :</span></dt><dd>2024-04-10T10:40:39Z : Created by DUACS NRT</dd><dt><span>date_created :</span></dt><dd>2024-04-10T10:40:39Z</dd><dt><span>date_issued :</span></dt><dd>2024-04-10T10:40:39Z</dd><dt><span>date_modified :</span></dt><dd>2024-04-10T10:40:39Z</dd><dt><span>time_coverage_begin :</span></dt><dd>2023-04-26T06:26:12Z</dd><dt><span>time_coverage_end :</span></dt><dd>2023-04-26T07:17:16Z</dd><dt><span>geospatial_lat_min :</span></dt><dd>-78.272132</dd><dt><span>geospatial_lat_max :</span></dt><dd>78.272321</dd><dt><span>geospatial_lon_min :</span></dt><dd>6.5e-05</dd><dt><span>geospatial_lon_max :</span></dt><dd>359.999908</dd><dt><span>data_used :</span></dt><dd>SWOT KaRIn L2_LR_SSH PGC0 (NASA/CNES). DOI associated: https://doi.org/10.24400/527896/a01-2023.015</dd><dt><span>doi :</span></dt><dd>https://doi.org/10.24400/527896/A01-2023.018</dd></dl></div></li></ul></div></div>"
      ],
      "text/plain": [
       "<xarray.Dataset> Size: 82MB\n",
       "Dimensions:               (num_lines: 9860, num_pixels: 69, num_nadir: 1311)\n",
       "Coordinates:\n",
       "    latitude              (num_lines, num_pixels) float64 5MB ...\n",
       "    longitude             (num_lines, num_pixels) float64 5MB ...\n",
       "Dimensions without coordinates: num_lines, num_pixels, num_nadir\n",
       "Data variables: (12/18)\n",
       "    time                  (num_lines) datetime64[ns] 79kB ...\n",
       "    mdt                   (num_lines, num_pixels) float64 5MB ...\n",
       "    ssha                  (num_lines, num_pixels) float64 5MB ...\n",
       "    ssha_noiseless        (num_lines, num_pixels) float64 5MB ...\n",
       "    ssha_unedited         (num_lines, num_pixels) float64 5MB ...\n",
       "    quality_flag          (num_lines, num_pixels) uint8 680kB ...\n",
       "    ...                    ...\n",
       "    ugosa                 (num_lines, num_pixels) float64 5MB ...\n",
       "    vgosa                 (num_lines, num_pixels) float64 5MB ...\n",
       "    sigma0                (num_lines, num_pixels) float64 5MB ...\n",
       "    cross_track_distance  (num_pixels) float64 552B ...\n",
       "    i_num_line            (num_nadir) int16 3kB ...\n",
       "    i_num_pixel           (num_nadir) int8 1kB ...\n",
       "Attributes: (12/42)\n",
       "    Conventions:                     CF-1.7\n",
       "    Metadata_Conventions:            Unidata Dataset Discovery v1.0\n",
       "    cdm_data_type:                   Swath\n",
       "    comment:                         Sea Surface Height measured by Altimetry\n",
       "    geospatial_lat_units:            degrees_north\n",
       "    geospatial_lon_units:            degrees_east\n",
       "    ...                              ...\n",
       "    geospatial_lat_min:              -78.272132\n",
       "    geospatial_lat_max:              78.272321\n",
       "    geospatial_lon_min:              6.5e-05\n",
       "    geospatial_lon_max:              359.999908\n",
       "    data_used:                       SWOT KaRIn L2_LR_SSH PGC0 (NASA/CNES). D...\n",
       "    doi:                             https://doi.org/10.24400/527896/A01-2023..."
      ]
     },
     "execution_count": 15,
     "metadata": {},
     "output_type": "execute_result"
    }
   ],
   "source": [
    "ds_SWOT = xr.open_dataset(dir_SWOT+file_swot)\n",
    "ds_SWOT"
   ]
  },
  {
   "cell_type": "markdown",
   "metadata": {},
   "source": [
    "Interpolate SWOT to ADCP transect"
   ]
  },
  {
   "cell_type": "code",
   "execution_count": null,
   "metadata": {},
   "outputs": [],
   "source": [
    "lon_min = lon_adcp.min()-0.5\n",
    "lon_max = lon_adcp.max()+0.5\n",
    "lat_min = lat_adcp.min()-0.5\n",
    "lat_max = lat_adcp.max()+0.5\n",
    " \n",
    "# Subregion:\n",
    "ds_SWOT = ds_SWOT.where(ds_SWOT['longitude'].compute()<lon_max, drop=True)\n",
    "ds_SWOT = ds_SWOT.where(ds_SWOT['longitude'].compute()>lon_min, drop=True)\n",
    "ds_SWOT = ds_SWOT.where(ds_SWOT['latitude'].compute()<lat_max, drop=True)\n",
    "ds_SWOT = ds_SWOT.where(ds_SWOT['latitude'].compute()>lat_min, drop=True)"
   ]
  },
  {
   "cell_type": "code",
   "execution_count": null,
   "metadata": {},
   "outputs": [],
   "source": [
    "ssha_unfiltered = ds_SWOT.ssha_unedited.values.flatten()[~np.isnan(ds_SWOT.ssha_unedited.values.flatten())]\n",
    "ssha_filtered = ds_SWOT.ssha_noiseless.values.flatten()[~np.isnan(ds_SWOT.ssha_unedited.values.flatten())]\n",
    "mdt = ds_SWOT.mdt.values.flatten()[~np.isnan(ds_SWOT.ssha_unedited.values.flatten())]\n",
    "ssh = ssha_filtered + mdt\n",
    "\n",
    "lon_swot = ds_SWOT.longitude.values.flatten()[~np.isnan(ds_SWOT.ugos.values.flatten())]\n",
    "lat_swot = ds_SWOT.latitude.values.flatten()[~np.isnan(ds_SWOT.ugos.values.flatten())]\n",
    "u_swot = ds_SWOT.ugos.values.flatten()[~np.isnan(ds_SWOT.ugos.values.flatten())]\n",
    "v_swot = ds_SWOT.vgos.values.flatten()[~np.isnan(ds_SWOT.vgos.values.flatten())]"
   ]
  },
  {
   "cell_type": "code",
   "execution_count": 18,
   "metadata": {},
   "outputs": [],
   "source": [
    "u_interp = griddata((lon_swot, lat_swot), u_swot, (interpolated_lons, interpolated_lats), method='cubic')\n",
    "v_interp = griddata((lon_swot, lat_swot), v_swot, (interpolated_lons, interpolated_lats), method='cubic')"
   ]
  },
  {
   "cell_type": "markdown",
   "metadata": {},
   "source": [
    "Compute cross-velocity from SWOT"
   ]
  },
  {
   "cell_type": "code",
   "execution_count": 19,
   "metadata": {},
   "outputs": [],
   "source": [
    "# Calculate the rotated complex number\n",
    "uv_SWOT_rotated = (u_interp + 1j*v_interp) * cmath.exp(1j * (-angle) * cmath.pi / 180)\n",
    "\n",
    "# Extract along- and cross-section values\n",
    "# uv_SWOT_along = uv_SWOT_rotated.real\n",
    "uv_SWOT_cross = uv_SWOT_rotated.imag"
   ]
  },
  {
   "cell_type": "markdown",
   "metadata": {},
   "source": [
    "## DUACS"
   ]
  },
  {
   "cell_type": "markdown",
   "metadata": {},
   "source": [
    "DUACS CMEMS"
   ]
  },
  {
   "cell_type": "code",
   "execution_count": 20,
   "metadata": {},
   "outputs": [],
   "source": [
    "dir_DUACS = '../../grl_codes_to_publish/data/DUACS/'\n",
    "\n",
    "file_duacs = \"cmems_obs-sl_eur_phy-ssh_my_allsat-l4-duacs-0.125deg_P1D_20230426.nc\""
   ]
  },
  {
   "cell_type": "code",
   "execution_count": 21,
   "metadata": {},
   "outputs": [],
   "source": [
    "ds_duacs= xr.open_dataset(dir_DUACS + file_duacs)"
   ]
  },
  {
   "cell_type": "code",
   "execution_count": 22,
   "metadata": {},
   "outputs": [],
   "source": [
    "lon_duacs, lat_duacs = np.meshgrid(ds_duacs.longitude, ds_duacs.latitude)"
   ]
  },
  {
   "cell_type": "code",
   "execution_count": 23,
   "metadata": {},
   "outputs": [],
   "source": [
    "u_duacs_interp = griddata((lon_duacs.ravel(),lat_duacs.ravel()), np.array(ds_duacs.ugos).ravel(), (interpolated_lons, interpolated_lats))\n",
    "v_duacs_interp = griddata((lon_duacs.ravel(),lat_duacs.ravel()), np.array(ds_duacs.vgos).ravel(), (interpolated_lons, interpolated_lats))"
   ]
  },
  {
   "cell_type": "markdown",
   "metadata": {},
   "source": [
    "Compute cross-velocity from DUACS"
   ]
  },
  {
   "cell_type": "code",
   "execution_count": 24,
   "metadata": {},
   "outputs": [],
   "source": [
    "# Calculate the rotated complex number\n",
    "uv_DUACS_rotated = (u_duacs_interp + 1j*v_duacs_interp) * cmath.exp(1j * (-angle) * cmath.pi / 180)\n",
    "\n",
    "# Extract along- and cross-section values\n",
    "# uv_SWOT_along = uv_SWOT_rotated.real\n",
    "uv_DUACS_cross = uv_DUACS_rotated.imag"
   ]
  },
  {
   "cell_type": "markdown",
   "metadata": {},
   "source": [
    "## PLOT\n"
   ]
  },
  {
   "cell_type": "code",
   "execution_count": 25,
   "metadata": {},
   "outputs": [],
   "source": [
    "lonminz, lonmaxz, latminz, latmaxz = 1.4, 1.8,39.65,40"
   ]
  },
  {
   "cell_type": "code",
   "execution_count": 26,
   "metadata": {},
   "outputs": [],
   "source": [
    "Depth  = ds.depth\n",
    "\n",
    "Time = ds.time[ds['transect_id']==6].values\n",
    "\n",
    "Lat = ds['lat'].where(ds['transect_id']==6, drop=True)\n",
    "Lon = ds['lon'].where(ds['transect_id']==6, drop=True)\n",
    "V = ds['v'].where(ds['transect_id']==6, drop=True)\n",
    "U = ds['u'].where(ds['transect_id']==6, drop=True)"
   ]
  },
  {
   "cell_type": "code",
   "execution_count": 27,
   "metadata": {},
   "outputs": [
    {
     "data": {
      "text/plain": [
       "(256, 40)"
      ]
     },
     "execution_count": 27,
     "metadata": {},
     "output_type": "execute_result"
    }
   ],
   "source": [
    "# Calculate the rotated complex number\n",
    "uv_rotated_trans = (U + 1j*V) * cmath.exp(1j * (-angle) * cmath.pi / 180)\n",
    "\n",
    "# Extract along- and cross-section values\n",
    "#uv_along = uv_rotated.real\n",
    "uv_cross_trans = np.array(uv_rotated_trans).imag\n",
    "\n",
    "np.shape(uv_cross_trans)"
   ]
  },
  {
   "cell_type": "markdown",
   "metadata": {},
   "source": [
    "interpolate the full section\n"
   ]
  },
  {
   "cell_type": "code",
   "execution_count": null,
   "metadata": {},
   "outputs": [],
   "source": [
    "# Initialize the matrix to store interpolated values\n",
    "new_uv_cross_trans = np.zeros((len(regular_distances), len(Depth.values)))\n",
    "\n",
    "for i in range(len(Depth.values)):  # Loop over each depth layer\n",
    "    # Interpolate the current depth layer\n",
    "    f = interp1d(distances, uv_cross_trans[:, i], kind='linear', fill_value='extrapolate')\n",
    "    \n",
    "    interpolated_uv = f(regular_distances)\n",
    "    \n",
    "    # Handle potential NaNs after interpolation \n",
    "    interpolated_uv = np.nan_to_num(interpolated_uv, nan=0.0)  \n",
    "    \n",
    "    # Apply low-pass filter to the interpolated values\n",
    "    smoothed_uv = low_pass_filter(interpolated_uv, cutoff_distance, fs)\n",
    "    \n",
    "    # Optionally handle NaNs after smoothing )\n",
    "    smoothed_uv = np.nan_to_num(smoothed_uv, nan=0.0) \n",
    "    \n",
    "    # Store the smoothed result\n",
    "    new_uv_cross_trans[:, i] = smoothed_uv\n"
   ]
  },
  {
   "cell_type": "markdown",
   "metadata": {},
   "source": [
    "### COMPUTE RO\n"
   ]
  },
  {
   "cell_type": "code",
   "execution_count": 29,
   "metadata": {},
   "outputs": [],
   "source": [
    "# Compute vorticity\n",
    "zeta = compute_vorticity_2d(new_uv_cross_trans.T, regular_distances*1000)  "
   ]
  },
  {
   "cell_type": "code",
   "execution_count": 30,
   "metadata": {},
   "outputs": [],
   "source": [
    "# Compute Rossby number using a single latitude value\n",
    "Ro = compute_rossby_number_2d(zeta, 30)\n"
   ]
  },
  {
   "cell_type": "code",
   "execution_count": null,
   "metadata": {},
   "outputs": [
    {
     "name": "stderr",
     "output_type": "stream",
     "text": [
      "C:\\Users\\ASUS\\AppData\\Local\\Temp\\ipykernel_7416\\2660204427.py:21: UserWarning: color is redundantly defined by the 'color' keyword argument and the fmt string \"r\" (-> color=(1.0, 0.0, 0.0, 1)). The keyword argument will take precedence.\n",
      "  ax1.plot(regular_distances, uv_SWOT_cross*100, 'r', linewidth = 2, label='SWOT', color='coral')  # Red line\n"
     ]
    },
    {
     "data": {
      "text/plain": [
       "Text(1.01, 0.95, '(d)')"
      ]
     },
     "execution_count": 31,
     "metadata": {},
     "output_type": "execute_result"
    },
    {
     "data": {
      "image/png": "[encoded data removed]",
      "text/plain": [
       "<Figure size 750x1200 with 6 Axes>"
      ]
     },
     "metadata": {},
     "output_type": "display_data"
    }
   ],
   "source": [
    "# Create the figure and main gridspec layout\n",
    "fig = plt.figure(figsize=(7.5, 12))\n",
    "\n",
    "# CREATE SUBPLOT OF TWO ROWS AND ONE COLUMN\n",
    "gs = fig.add_gridspec(3, 1, height_ratios=[1, 1.2, 1.2])\n",
    "\n",
    "# FIRST SUBPLOT #############################################\n",
    "ax1 = fig.add_subplot(gs[0, 0])\n",
    "\n",
    "# add visible grid\n",
    "ax1.grid(visible=True)\n",
    "#add line in 0\n",
    "ax1.axhline(0, color='black', lw=0.5)\n",
    "\n",
    "ax1.plot(distances[:-21],uv_cross_unfiltered[:-21]*100,  label='unfiltered ADCP '+str(dep)+' m', color='lightblue')\n",
    "ax1.plot(regular_distances, uv_cross*100, linewidth = 2,label='filtered ADCP '+str(dep)+' m', color='navy')          # Blue line\n",
    "\n",
    "plt.fill_between(regular_distances, (uv_cross*100) - 1.9, (uv_cross*100) + 1.9, color='navy', alpha=0.1)\n",
    "\n",
    "ax1.plot(regular_distances,uv_DUACS_cross*100,linewidth = 2, label='DUACS',c='violet')\n",
    "ax1.plot(regular_distances, uv_SWOT_cross*100, 'r', linewidth = 2, label='SWOT', color='coral')  # Red line\n",
    "\n",
    "ax1.set_xlim(5,47)\n",
    "ax1.set_ylim([-43, 43])\n",
    "ax1.set_ylabel('Cross-section vel. [cm/s]', fontsize=9.5)\n",
    "ax1.legend(loc = 'lower right', fontsize=9)\n",
    "ax1.locator_params(axis='y', nbins=5)\n",
    "ax1.set_xticklabels([])\n",
    "\n",
    "# SECOND SUBPLOT ############################################\n",
    "ax2 = fig.add_subplot(gs[1, 0])\n",
    "pc2 = plt.contourf(regular_distances,Depth.values,new_uv_cross_trans.T*100,levels = 14, cmap=cmocean.cm.balance) # no interpolat ni suavitzat\n",
    "\n",
    "ax2.invert_yaxis()\n",
    "\n",
    "ax2.set_ylabel('Depth [m]', fontsize=9.5)\n",
    "ax2.locator_params(axis='y', nbins=5)\n",
    "\n",
    "# no ticks in x axis\n",
    "ax2.set_xticklabels([])\n",
    "\n",
    "\n",
    "ax2.set_ylim([190, 0])\n",
    "ax2.set_xlim(5,47)\n",
    "\n",
    "cbar = fig.colorbar(pc2, ax=ax2, label='Cross-section vel. [cm/s]', orientation='horizontal', aspect=60, pad = 0.001, anchor=(0.5, 0.6))\n",
    "cbar.ax.tick_params(labelsize=9.5)\n",
    "cbar.set_label(label='Cross-section vel. [cm/s]', size=9.5)\n",
    "\n",
    "# THIRD SUBPLOT ############################################\n",
    "ax3 = fig.add_subplot(gs[2, 0])\n",
    "\n",
    "pc3 = ax3.contourf(regular_distances, Depth.values, Ro, levels = 14, cmap=cmocean.cm.balance)\n",
    "\n",
    "ax3.invert_yaxis()\n",
    "\n",
    "ax3.set_xlabel('Distance [km]',fontsize=9.5)\n",
    "ax3.set_ylabel('Depth [m]', fontsize=9.5)\n",
    "ax3.locator_params(axis='y', nbins=5)\n",
    "\n",
    "ax3.set_ylim([190, 0])\n",
    "ax3.set_xlim(5,47)\n",
    "\n",
    "cbar3 = fig.colorbar(pc3, ax=ax3, label=r'$\\zeta$ / f', orientation='horizontal', aspect=60, pad = 0.009, anchor=(0.5, -0.6))\n",
    "\n",
    "cbar3.ax.tick_params(labelsize=9)\n",
    "cbar3.ax.yaxis.label.set_size(9.5)\n",
    "cbar3.set_label(label=r'$\\zeta$ / f', size=9.5)\n",
    "\n",
    "\n",
    "##################### MAPA ########################################\n",
    "inset_ax = fig.add_axes([0.14, 0.76, 0.23, 0.23], projection=ccrs.PlateCarree())  # [left, bottom, width, height]\n",
    "inset_ax.set_extent([1.25, 1.9, 39.5, 40.15], ccrs.PlateCarree())\n",
    "\n",
    "CS=inset_ax.contour(ds_SWOT.longitude, ds_SWOT.latitude, (ds_SWOT.ssha_noiseless + ds_SWOT.mdt) * 100, \n",
    "                 cmap='Spectral_r', linewidths = 2, alpha = 0.9, vmin=-3,vmax=2, levels = 8, transform=ccrs.PlateCarree())\n",
    "\n",
    "# Add labels to contours\n",
    "\n",
    "inset_ax.clabel(CS, inline=True, fontsize=8, colors='gray')\n",
    "\n",
    "# title inside plot\n",
    "inset_ax.text(0.96, 1.075, 'SWOT ADT', transform=inset_ax.transAxes, fontsize=9, va='top', ha='right', color='gray', fontweight = 'bold')\n",
    "inset_ax.text(0.5, 0.2, 'ADCP', color= 'darkblue', transform=inset_ax.transAxes, fontweight= 'bold',fontsize=8, va='top', ha='right')\n",
    "\n",
    "q = inset_ax.quiver(interpolated_lons[::4],interpolated_lats[::4], interpolated_u[::4], interpolated_v[::4],  scale=1, zorder=10, \n",
    "                transform=ccrs.PlateCarree(), width=0.01, headwidth=4, color= 'darkblue')\n",
    "\n",
    "inset_ax.scatter(interpolated_lons,interpolated_lats,8,marker='.',color='darkblue',zorder=10)\n",
    "\n",
    "qk = plt.quiverkey(q, 0.305, 0.82, 0.1, r'$10 \\frac{m}{s}$', labelpos='E', coordinates='figure',color='darkblue')\n",
    "\n",
    "gl = inset_ax.gridlines(draw_labels=True, linewidth=0.2, color='black', alpha=0.8, linestyle='-', zorder=10)\n",
    "\n",
    "gl.xlabel_style = {'size': 9}\n",
    "gl.ylabel_style = {'size': 9}\n",
    "gl.top_labels = False\n",
    "gl.left_labels = False\n",
    "\n",
    "\n",
    "gl.ylocator = plt.MaxNLocator(3)  # Optional: adjust number of latitude lines\n",
    "gl.xlocator = plt.MaxNLocator(4)  # Optional: adjust number of latitude lines\n",
    "\n",
    "# Reduce space between subplots\n",
    "plt.subplots_adjust(hspace=0.11)\n",
    "\n",
    "# put a,b,c\n",
    "plt.text(1.01, 1, '(b)', transform=ax1.transAxes, fontsize=9, fontweight='bold')\n",
    "plt.text(1.01, 0.95, '(c)', transform=ax2.transAxes, fontsize=9, fontweight='bold')\n",
    "plt.text(-0.18, 1.04, '(a)', transform=inset_ax.transAxes, fontsize=9, fontweight='bold')\n",
    "plt.text(1.01, 0.95, '(d)', transform=ax3.transAxes, fontsize=9, fontweight='bold')\n",
    "\n",
    "# plt.savefig('C:/Users/ASUS/OneDrive - Universitat de les Illes Balears/grl_codes_to_publish_def_swotv1.0/figures_def/figure4.png',dpi=600, bbox_inches='tight')\n"
   ]
  },
  {
   "cell_type": "markdown",
   "metadata": {},
   "source": [
    "COMPUTE MAXIMUM AND MINIMUM VELOCITIES:"
   ]
  },
  {
   "cell_type": "code",
   "execution_count": 32,
   "metadata": {},
   "outputs": [
    {
     "name": "stdout",
     "output_type": "stream",
     "text": [
      "Maximum velocity: 0.28820331550721334\n",
      "Depth at maximum velocity: 175\n"
     ]
    }
   ],
   "source": [
    "# Find the index of the maximum absolute velocity across all latitudes and depths\n",
    "max_vel_idx = np.unravel_index(np.nanargmax(new_uv_cross_trans), new_uv_cross_trans.shape)\n",
    "\n",
    "# Extract the corresponding depth\n",
    "depth_max_velocity = Depth.values[max_vel_idx[1]]  # Index corresponds to depth dimension\n",
    "\n",
    "# Extract the maximum velocity value\n",
    "max_velocity = new_uv_cross_trans[max_vel_idx]\n",
    "\n",
    "print(f\"Maximum velocity: {max_velocity}\")\n",
    "print(f\"Depth at maximum velocity: {depth_max_velocity}\")\n"
   ]
  },
  {
   "cell_type": "code",
   "execution_count": 33,
   "metadata": {},
   "outputs": [
    {
     "name": "stdout",
     "output_type": "stream",
     "text": [
      "Minimum velocity: -0.2986770307757118\n",
      "Depth at minimum velocity: 155\n"
     ]
    }
   ],
   "source": [
    "# Find the index of the maximum absolute velocity across all latitudes and depths\n",
    "min_vel_idx = np.unravel_index(np.nanargmin(new_uv_cross_trans), new_uv_cross_trans.shape)\n",
    "\n",
    "# Extract the corresponding depth\n",
    "depth_min_velocity = Depth.values[min_vel_idx[1]]  # Index corresponds to depth dimension\n",
    "\n",
    "# Extract the maximum velocity value\n",
    "min_velocity = new_uv_cross_trans[min_vel_idx]\n",
    "\n",
    "print(f\"Minimum velocity: {min_velocity}\")\n",
    "print(f\"Depth at minimum velocity: {depth_min_velocity}\")"
   ]
  },
  {
   "cell_type": "code",
   "execution_count": null,
   "metadata": {},
   "outputs": [],
   "source": []
  }
 ],
 "metadata": {
  "kernelspec": {
   "display_name": "env_elisabet",
   "language": "python",
   "name": "python3"
  },
  "language_info": {
   "codemirror_mode": {
    "name": "ipython",
    "version": 3
   },
   "file_extension": ".py",
   "mimetype": "text/x-python",
   "name": "python",
   "nbconvert_exporter": "python",
   "pygments_lexer": "ipython3",
   "version": "3.11.11"
  }
 },
 "nbformat": 4,
 "nbformat_minor": 2
}
